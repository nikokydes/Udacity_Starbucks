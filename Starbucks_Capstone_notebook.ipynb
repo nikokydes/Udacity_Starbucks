{
 "cells": [
  {
   "cell_type": "markdown",
   "metadata": {},
   "source": [
    "# Starbucks Capstone Challenge\n",
    "\n",
    "### Introduction\n",
    "\n",
    "This data set contains simulated data that mimics customer behavior on the Starbucks rewards mobile app. Once every few days, Starbucks sends out an offer to users of the mobile app. An offer can be merely an advertisement for a drink or an actual offer such as a discount or BOGO (buy one get one free). Some users might not receive any offer during certain weeks. \n",
    "\n",
    "Not all users receive the same offer, and that is the challenge to solve with this data set.\n",
    "\n",
    "Your task is to combine transaction, demographic and offer data to determine which demographic groups respond best to which offer type. This data set is a simplified version of the real Starbucks app because the underlying simulator only has one product whereas Starbucks actually sells dozens of products.\n",
    "\n",
    "Every offer has a validity period before the offer expires. As an example, a BOGO offer might be valid for only 5 days. You'll see in the data set that informational offers have a validity period even though these ads are merely providing information about a product; for example, if an informational offer has 7 days of validity, you can assume the customer is feeling the influence of the offer for 7 days after receiving the advertisement.\n",
    "\n",
    "You'll be given transactional data showing user purchases made on the app including the timestamp of purchase and the amount of money spent on a purchase. This transactional data also has a record for each offer that a user receives as well as a record for when a user actually views the offer. There are also records for when a user completes an offer. \n",
    "\n",
    "Keep in mind as well that someone using the app might make a purchase through the app without having received an offer or seen an offer.\n",
    "\n",
    "### Example\n",
    "\n",
    "To give an example, a user could receive a discount offer buy 10 dollars get 2 off on Monday. The offer is valid for 10 days from receipt. If the customer accumulates at least 10 dollars in purchases during the validity period, the customer completes the offer.\n",
    "\n",
    "However, there are a few things to watch out for in this data set. Customers do not opt into the offers that they receive; in other words, a user can receive an offer, never actually view the offer, and still complete the offer. For example, a user might receive the \"buy 10 dollars get 2 dollars off offer\", but the user never opens the offer during the 10 day validity period. The customer spends 15 dollars during those ten days. There will be an offer completion record in the data set; however, the customer was not influenced by the offer because the customer never viewed the offer.\n",
    "\n",
    "### Cleaning\n",
    "\n",
    "This makes data cleaning especially important and tricky.\n",
    "\n",
    "You'll also want to take into account that some demographic groups will make purchases even if they don't receive an offer. From a business perspective, if a customer is going to make a 10 dollar purchase without an offer anyway, you wouldn't want to send a buy 10 dollars get 2 dollars off offer. You'll want to try to assess what a certain demographic group will buy when not receiving any offers.\n",
    "\n",
    "### Final Advice\n",
    "\n",
    "Because this is a capstone project, you are free to analyze the data any way you see fit. For example, you could build a machine learning model that predicts how much someone will spend based on demographics and offer type. Or you could build a model that predicts whether or not someone will respond to an offer. Or, you don't need to build a machine learning model at all. You could develop a set of heuristics that determine what offer you should send to each customer (i.e., 75 percent of women customers who were 35 years old responded to offer A vs 40 percent from the same demographic to offer B, so send offer A)."
   ]
  },
  {
   "cell_type": "markdown",
   "metadata": {},
   "source": [
    "# Data Sets\n",
    "\n",
    "The data is contained in three files:\n",
    "\n",
    "* portfolio.json - containing offer ids and meta data about each offer (duration, type, etc.)\n",
    "* profile.json - demographic data for each customer\n",
    "* transcript.json - records for transactions, offers received, offers viewed, and offers completed\n",
    "\n",
    "Here is the schema and explanation of each variable in the files:\n",
    "\n",
    "**portfolio.json**\n",
    "* id (string) - offer id\n",
    "* offer_type (string) - type of offer ie BOGO, discount, informational\n",
    "* difficulty (int) - minimum required spend to complete an offer\n",
    "* reward (int) - reward given for completing an offer\n",
    "* duration (int) - time for offer to be open, in days\n",
    "* channels (list of strings)\n",
    "\n",
    "**profile.json**\n",
    "* age (int) - age of the customer \n",
    "* became_member_on (int) - date when customer created an app account\n",
    "* gender (str) - gender of the customer (note some entries contain 'O' for other rather than M or F)\n",
    "* id (str) - customer id\n",
    "* income (float) - customer's income\n",
    "\n",
    "**transcript.json**\n",
    "* event (str) - record description (ie transaction, offer received, offer viewed, etc.)\n",
    "* person (str) - customer id\n",
    "* time (int) - time in hours since start of test. The data begins at time t=0\n",
    "* value - (dict of strings) - either an offer id or transaction amount depending on the record\n",
    "\n",
    "**Note:** If you are using the workspace, you will need to go to the terminal and run the command `conda update pandas` before reading in the files. This is because the version of pandas in the workspace cannot read in the transcript.json file correctly, but the newest version of pandas can. You can access the termnal from the orange icon in the top left of this notebook.  \n",
    "\n",
    "You can see how to access the terminal and how the install works using the two images below.  First you need to access the terminal:\n",
    "\n",
    "<img src=\"pic1.png\"/>\n",
    "\n",
    "Then you will want to run the above command:\n",
    "\n",
    "<img src=\"pic2.png\"/>\n",
    "\n",
    "Finally, when you enter back into the notebook (use the jupyter icon again), you should be able to run the below cell without any errors."
   ]
  },
  {
   "cell_type": "code",
   "execution_count": 49,
   "metadata": {},
   "outputs": [],
   "source": [
    "import pandas as pd\n",
    "import numpy as np\n",
    "import math\n",
    "import json\n",
    "import matplotlib.pyplot as plt\n",
    "import seaborn as sns\n",
    "%matplotlib inline\n",
    "\n",
    "from sklearn.model_selection import GridSearchCV, train_test_split\n",
    "from sklearn.preprocessing import StandardScaler\n",
    "from sklearn.tree import DecisionTreeClassifier\n",
    "from sklearn.linear_model import LogisticRegression\n",
    "from sklearn.ensemble import RandomForestClassifier, GradientBoostingClassifier\n",
    "from sklearn.metrics import mean_squared_error, classification_report, roc_auc_score\n",
    "from sklearn.pipeline import Pipeline, FeatureUnion\n",
    "from sklearn.base import BaseEstimator, TransformerMixin\n"
   ]
  },
  {
   "cell_type": "code",
   "execution_count": 2,
   "metadata": {},
   "outputs": [
    {
     "data": {
      "text/html": [
       "<div>\n",
       "<style scoped>\n",
       "    .dataframe tbody tr th:only-of-type {\n",
       "        vertical-align: middle;\n",
       "    }\n",
       "\n",
       "    .dataframe tbody tr th {\n",
       "        vertical-align: top;\n",
       "    }\n",
       "\n",
       "    .dataframe thead th {\n",
       "        text-align: right;\n",
       "    }\n",
       "</style>\n",
       "<table border=\"1\" class=\"dataframe\">\n",
       "  <thead>\n",
       "    <tr style=\"text-align: right;\">\n",
       "      <th></th>\n",
       "      <th>reward</th>\n",
       "      <th>channels</th>\n",
       "      <th>difficulty</th>\n",
       "      <th>duration</th>\n",
       "      <th>offer_type</th>\n",
       "      <th>offer_id</th>\n",
       "    </tr>\n",
       "  </thead>\n",
       "  <tbody>\n",
       "    <tr>\n",
       "      <th>0</th>\n",
       "      <td>10</td>\n",
       "      <td>[email, mobile, social]</td>\n",
       "      <td>10</td>\n",
       "      <td>7</td>\n",
       "      <td>bogo</td>\n",
       "      <td>ae264e3637204a6fb9bb56bc8210ddfd</td>\n",
       "    </tr>\n",
       "    <tr>\n",
       "      <th>1</th>\n",
       "      <td>10</td>\n",
       "      <td>[web, email, mobile, social]</td>\n",
       "      <td>10</td>\n",
       "      <td>5</td>\n",
       "      <td>bogo</td>\n",
       "      <td>4d5c57ea9a6940dd891ad53e9dbe8da0</td>\n",
       "    </tr>\n",
       "    <tr>\n",
       "      <th>2</th>\n",
       "      <td>0</td>\n",
       "      <td>[web, email, mobile]</td>\n",
       "      <td>0</td>\n",
       "      <td>4</td>\n",
       "      <td>informational</td>\n",
       "      <td>3f207df678b143eea3cee63160fa8bed</td>\n",
       "    </tr>\n",
       "    <tr>\n",
       "      <th>3</th>\n",
       "      <td>5</td>\n",
       "      <td>[web, email, mobile]</td>\n",
       "      <td>5</td>\n",
       "      <td>7</td>\n",
       "      <td>bogo</td>\n",
       "      <td>9b98b8c7a33c4b65b9aebfe6a799e6d9</td>\n",
       "    </tr>\n",
       "    <tr>\n",
       "      <th>4</th>\n",
       "      <td>5</td>\n",
       "      <td>[web, email]</td>\n",
       "      <td>20</td>\n",
       "      <td>10</td>\n",
       "      <td>discount</td>\n",
       "      <td>0b1e1539f2cc45b7b9fa7c272da2e1d7</td>\n",
       "    </tr>\n",
       "    <tr>\n",
       "      <th>5</th>\n",
       "      <td>3</td>\n",
       "      <td>[web, email, mobile, social]</td>\n",
       "      <td>7</td>\n",
       "      <td>7</td>\n",
       "      <td>discount</td>\n",
       "      <td>2298d6c36e964ae4a3e7e9706d1fb8c2</td>\n",
       "    </tr>\n",
       "    <tr>\n",
       "      <th>6</th>\n",
       "      <td>2</td>\n",
       "      <td>[web, email, mobile, social]</td>\n",
       "      <td>10</td>\n",
       "      <td>10</td>\n",
       "      <td>discount</td>\n",
       "      <td>fafdcd668e3743c1bb461111dcafc2a4</td>\n",
       "    </tr>\n",
       "    <tr>\n",
       "      <th>7</th>\n",
       "      <td>0</td>\n",
       "      <td>[email, mobile, social]</td>\n",
       "      <td>0</td>\n",
       "      <td>3</td>\n",
       "      <td>informational</td>\n",
       "      <td>5a8bc65990b245e5a138643cd4eb9837</td>\n",
       "    </tr>\n",
       "    <tr>\n",
       "      <th>8</th>\n",
       "      <td>5</td>\n",
       "      <td>[web, email, mobile, social]</td>\n",
       "      <td>5</td>\n",
       "      <td>5</td>\n",
       "      <td>bogo</td>\n",
       "      <td>f19421c1d4aa40978ebb69ca19b0e20d</td>\n",
       "    </tr>\n",
       "    <tr>\n",
       "      <th>9</th>\n",
       "      <td>2</td>\n",
       "      <td>[web, email, mobile]</td>\n",
       "      <td>10</td>\n",
       "      <td>7</td>\n",
       "      <td>discount</td>\n",
       "      <td>2906b810c7d4411798c6938adc9daaa5</td>\n",
       "    </tr>\n",
       "  </tbody>\n",
       "</table>\n",
       "</div>"
      ],
      "text/plain": [
       "   reward                      channels  difficulty  duration     offer_type  \\\n",
       "0      10       [email, mobile, social]          10         7           bogo   \n",
       "1      10  [web, email, mobile, social]          10         5           bogo   \n",
       "2       0          [web, email, mobile]           0         4  informational   \n",
       "3       5          [web, email, mobile]           5         7           bogo   \n",
       "4       5                  [web, email]          20        10       discount   \n",
       "5       3  [web, email, mobile, social]           7         7       discount   \n",
       "6       2  [web, email, mobile, social]          10        10       discount   \n",
       "7       0       [email, mobile, social]           0         3  informational   \n",
       "8       5  [web, email, mobile, social]           5         5           bogo   \n",
       "9       2          [web, email, mobile]          10         7       discount   \n",
       "\n",
       "                           offer_id  \n",
       "0  ae264e3637204a6fb9bb56bc8210ddfd  \n",
       "1  4d5c57ea9a6940dd891ad53e9dbe8da0  \n",
       "2  3f207df678b143eea3cee63160fa8bed  \n",
       "3  9b98b8c7a33c4b65b9aebfe6a799e6d9  \n",
       "4  0b1e1539f2cc45b7b9fa7c272da2e1d7  \n",
       "5  2298d6c36e964ae4a3e7e9706d1fb8c2  \n",
       "6  fafdcd668e3743c1bb461111dcafc2a4  \n",
       "7  5a8bc65990b245e5a138643cd4eb9837  \n",
       "8  f19421c1d4aa40978ebb69ca19b0e20d  \n",
       "9  2906b810c7d4411798c6938adc9daaa5  "
      ]
     },
     "execution_count": 2,
     "metadata": {},
     "output_type": "execute_result"
    }
   ],
   "source": [
    "# read in the json files\n",
    "portfolio = pd.read_json('data/portfolio.json', orient='records', lines=True)\n",
    "profile = pd.read_json('data/profile.json', orient='records', lines=True)\n",
    "transcript = pd.read_json('data/transcript.json', orient='records', lines=True)\n",
    "\n",
    "# Rename the 'id' field to 'offer_id' to not confuse with the customer id in the profile table\n",
    "portfolio.rename({\"id\":\"offer_id\"}, axis=1, inplace=True)\n",
    "portfolio.head(10)"
   ]
  },
  {
   "cell_type": "code",
   "execution_count": 3,
   "metadata": {},
   "outputs": [
    {
     "name": "stdout",
     "output_type": "stream",
     "text": [
      "<class 'pandas.core.frame.DataFrame'>\n",
      "RangeIndex: 10 entries, 0 to 9\n",
      "Data columns (total 6 columns):\n",
      " #   Column      Non-Null Count  Dtype \n",
      "---  ------      --------------  ----- \n",
      " 0   reward      10 non-null     int64 \n",
      " 1   channels    10 non-null     object\n",
      " 2   difficulty  10 non-null     int64 \n",
      " 3   duration    10 non-null     int64 \n",
      " 4   offer_type  10 non-null     object\n",
      " 5   offer_id    10 non-null     object\n",
      "dtypes: int64(3), object(3)\n",
      "memory usage: 608.0+ bytes\n"
     ]
    }
   ],
   "source": [
    "portfolio.info()"
   ]
  },
  {
   "cell_type": "code",
   "execution_count": 4,
   "metadata": {},
   "outputs": [
    {
     "data": {
      "text/html": [
       "<div>\n",
       "<style scoped>\n",
       "    .dataframe tbody tr th:only-of-type {\n",
       "        vertical-align: middle;\n",
       "    }\n",
       "\n",
       "    .dataframe tbody tr th {\n",
       "        vertical-align: top;\n",
       "    }\n",
       "\n",
       "    .dataframe thead th {\n",
       "        text-align: right;\n",
       "    }\n",
       "</style>\n",
       "<table border=\"1\" class=\"dataframe\">\n",
       "  <thead>\n",
       "    <tr style=\"text-align: right;\">\n",
       "      <th></th>\n",
       "      <th>gender</th>\n",
       "      <th>age</th>\n",
       "      <th>cust_id</th>\n",
       "      <th>became_member_on</th>\n",
       "      <th>income</th>\n",
       "    </tr>\n",
       "  </thead>\n",
       "  <tbody>\n",
       "    <tr>\n",
       "      <th>0</th>\n",
       "      <td>None</td>\n",
       "      <td>118</td>\n",
       "      <td>68be06ca386d4c31939f3a4f0e3dd783</td>\n",
       "      <td>20170212</td>\n",
       "      <td>NaN</td>\n",
       "    </tr>\n",
       "    <tr>\n",
       "      <th>1</th>\n",
       "      <td>F</td>\n",
       "      <td>55</td>\n",
       "      <td>0610b486422d4921ae7d2bf64640c50b</td>\n",
       "      <td>20170715</td>\n",
       "      <td>112000.0</td>\n",
       "    </tr>\n",
       "    <tr>\n",
       "      <th>2</th>\n",
       "      <td>None</td>\n",
       "      <td>118</td>\n",
       "      <td>38fe809add3b4fcf9315a9694bb96ff5</td>\n",
       "      <td>20180712</td>\n",
       "      <td>NaN</td>\n",
       "    </tr>\n",
       "    <tr>\n",
       "      <th>3</th>\n",
       "      <td>F</td>\n",
       "      <td>75</td>\n",
       "      <td>78afa995795e4d85b5d9ceeca43f5fef</td>\n",
       "      <td>20170509</td>\n",
       "      <td>100000.0</td>\n",
       "    </tr>\n",
       "    <tr>\n",
       "      <th>4</th>\n",
       "      <td>None</td>\n",
       "      <td>118</td>\n",
       "      <td>a03223e636434f42ac4c3df47e8bac43</td>\n",
       "      <td>20170804</td>\n",
       "      <td>NaN</td>\n",
       "    </tr>\n",
       "  </tbody>\n",
       "</table>\n",
       "</div>"
      ],
      "text/plain": [
       "  gender  age                           cust_id  became_member_on    income\n",
       "0   None  118  68be06ca386d4c31939f3a4f0e3dd783          20170212       NaN\n",
       "1      F   55  0610b486422d4921ae7d2bf64640c50b          20170715  112000.0\n",
       "2   None  118  38fe809add3b4fcf9315a9694bb96ff5          20180712       NaN\n",
       "3      F   75  78afa995795e4d85b5d9ceeca43f5fef          20170509  100000.0\n",
       "4   None  118  a03223e636434f42ac4c3df47e8bac43          20170804       NaN"
      ]
     },
     "execution_count": 4,
     "metadata": {},
     "output_type": "execute_result"
    }
   ],
   "source": [
    "# Rename the 'id' field to 'cust_id'\n",
    "profile.rename({\"id\":\"cust_id\"}, axis=1, inplace=True)\n",
    "profile.head()"
   ]
  },
  {
   "cell_type": "code",
   "execution_count": 5,
   "metadata": {},
   "outputs": [
    {
     "name": "stdout",
     "output_type": "stream",
     "text": [
      "<class 'pandas.core.frame.DataFrame'>\n",
      "RangeIndex: 17000 entries, 0 to 16999\n",
      "Data columns (total 5 columns):\n",
      " #   Column            Non-Null Count  Dtype  \n",
      "---  ------            --------------  -----  \n",
      " 0   gender            14825 non-null  object \n",
      " 1   age               17000 non-null  int64  \n",
      " 2   cust_id           17000 non-null  object \n",
      " 3   became_member_on  17000 non-null  int64  \n",
      " 4   income            14825 non-null  float64\n",
      "dtypes: float64(1), int64(2), object(2)\n",
      "memory usage: 664.2+ KB\n"
     ]
    }
   ],
   "source": [
    "profile.info()"
   ]
  },
  {
   "cell_type": "code",
   "execution_count": 6,
   "metadata": {},
   "outputs": [
    {
     "data": {
      "text/html": [
       "<div>\n",
       "<style scoped>\n",
       "    .dataframe tbody tr th:only-of-type {\n",
       "        vertical-align: middle;\n",
       "    }\n",
       "\n",
       "    .dataframe tbody tr th {\n",
       "        vertical-align: top;\n",
       "    }\n",
       "\n",
       "    .dataframe thead th {\n",
       "        text-align: right;\n",
       "    }\n",
       "</style>\n",
       "<table border=\"1\" class=\"dataframe\">\n",
       "  <thead>\n",
       "    <tr style=\"text-align: right;\">\n",
       "      <th></th>\n",
       "      <th>cust_id</th>\n",
       "      <th>event</th>\n",
       "      <th>value</th>\n",
       "      <th>time</th>\n",
       "    </tr>\n",
       "  </thead>\n",
       "  <tbody>\n",
       "    <tr>\n",
       "      <th>0</th>\n",
       "      <td>78afa995795e4d85b5d9ceeca43f5fef</td>\n",
       "      <td>offer received</td>\n",
       "      <td>{'offer id': '9b98b8c7a33c4b65b9aebfe6a799e6d9'}</td>\n",
       "      <td>0</td>\n",
       "    </tr>\n",
       "    <tr>\n",
       "      <th>1</th>\n",
       "      <td>a03223e636434f42ac4c3df47e8bac43</td>\n",
       "      <td>offer received</td>\n",
       "      <td>{'offer id': '0b1e1539f2cc45b7b9fa7c272da2e1d7'}</td>\n",
       "      <td>0</td>\n",
       "    </tr>\n",
       "    <tr>\n",
       "      <th>2</th>\n",
       "      <td>e2127556f4f64592b11af22de27a7932</td>\n",
       "      <td>offer received</td>\n",
       "      <td>{'offer id': '2906b810c7d4411798c6938adc9daaa5'}</td>\n",
       "      <td>0</td>\n",
       "    </tr>\n",
       "    <tr>\n",
       "      <th>3</th>\n",
       "      <td>8ec6ce2a7e7949b1bf142def7d0e0586</td>\n",
       "      <td>offer received</td>\n",
       "      <td>{'offer id': 'fafdcd668e3743c1bb461111dcafc2a4'}</td>\n",
       "      <td>0</td>\n",
       "    </tr>\n",
       "    <tr>\n",
       "      <th>4</th>\n",
       "      <td>68617ca6246f4fbc85e91a2a49552598</td>\n",
       "      <td>offer received</td>\n",
       "      <td>{'offer id': '4d5c57ea9a6940dd891ad53e9dbe8da0'}</td>\n",
       "      <td>0</td>\n",
       "    </tr>\n",
       "  </tbody>\n",
       "</table>\n",
       "</div>"
      ],
      "text/plain": [
       "                            cust_id           event  \\\n",
       "0  78afa995795e4d85b5d9ceeca43f5fef  offer received   \n",
       "1  a03223e636434f42ac4c3df47e8bac43  offer received   \n",
       "2  e2127556f4f64592b11af22de27a7932  offer received   \n",
       "3  8ec6ce2a7e7949b1bf142def7d0e0586  offer received   \n",
       "4  68617ca6246f4fbc85e91a2a49552598  offer received   \n",
       "\n",
       "                                              value  time  \n",
       "0  {'offer id': '9b98b8c7a33c4b65b9aebfe6a799e6d9'}     0  \n",
       "1  {'offer id': '0b1e1539f2cc45b7b9fa7c272da2e1d7'}     0  \n",
       "2  {'offer id': '2906b810c7d4411798c6938adc9daaa5'}     0  \n",
       "3  {'offer id': 'fafdcd668e3743c1bb461111dcafc2a4'}     0  \n",
       "4  {'offer id': '4d5c57ea9a6940dd891ad53e9dbe8da0'}     0  "
      ]
     },
     "execution_count": 6,
     "metadata": {},
     "output_type": "execute_result"
    }
   ],
   "source": [
    "# Rename 'person' to 'cust_id' to match the profile dataframe\n",
    "transcript.rename({\"person\":\"cust_id\"}, axis=1, inplace=True)\n",
    "transcript.head()"
   ]
  },
  {
   "cell_type": "code",
   "execution_count": 7,
   "metadata": {},
   "outputs": [
    {
     "name": "stdout",
     "output_type": "stream",
     "text": [
      "<class 'pandas.core.frame.DataFrame'>\n",
      "RangeIndex: 306534 entries, 0 to 306533\n",
      "Data columns (total 4 columns):\n",
      " #   Column   Non-Null Count   Dtype \n",
      "---  ------   --------------   ----- \n",
      " 0   cust_id  306534 non-null  object\n",
      " 1   event    306534 non-null  object\n",
      " 2   value    306534 non-null  object\n",
      " 3   time     306534 non-null  int64 \n",
      "dtypes: int64(1), object(3)\n",
      "memory usage: 9.4+ MB\n"
     ]
    }
   ],
   "source": [
    "transcript.info()"
   ]
  },
  {
   "cell_type": "code",
   "execution_count": 8,
   "metadata": {},
   "outputs": [
    {
     "name": "stdout",
     "output_type": "stream",
     "text": [
      "There are 17000 unique cust_ids in the transcript table.\n"
     ]
    }
   ],
   "source": [
    "print('There are {} unique cust_ids in the transcript table.'.format(transcript.cust_id.nunique()))"
   ]
  },
  {
   "cell_type": "code",
   "execution_count": 9,
   "metadata": {},
   "outputs": [
    {
     "data": {
      "text/html": [
       "<div>\n",
       "<style scoped>\n",
       "    .dataframe tbody tr th:only-of-type {\n",
       "        vertical-align: middle;\n",
       "    }\n",
       "\n",
       "    .dataframe tbody tr th {\n",
       "        vertical-align: top;\n",
       "    }\n",
       "\n",
       "    .dataframe thead th {\n",
       "        text-align: right;\n",
       "    }\n",
       "</style>\n",
       "<table border=\"1\" class=\"dataframe\">\n",
       "  <thead>\n",
       "    <tr style=\"text-align: right;\">\n",
       "      <th></th>\n",
       "      <th>cust_id</th>\n",
       "      <th>event</th>\n",
       "      <th>time</th>\n",
       "      <th>amount</th>\n",
       "      <th>offer_id</th>\n",
       "      <th>reward</th>\n",
       "    </tr>\n",
       "  </thead>\n",
       "  <tbody>\n",
       "    <tr>\n",
       "      <th>0</th>\n",
       "      <td>78afa995795e4d85b5d9ceeca43f5fef</td>\n",
       "      <td>offer received</td>\n",
       "      <td>0</td>\n",
       "      <td>NaN</td>\n",
       "      <td>9b98b8c7a33c4b65b9aebfe6a799e6d9</td>\n",
       "      <td>NaN</td>\n",
       "    </tr>\n",
       "    <tr>\n",
       "      <th>1</th>\n",
       "      <td>a03223e636434f42ac4c3df47e8bac43</td>\n",
       "      <td>offer received</td>\n",
       "      <td>0</td>\n",
       "      <td>NaN</td>\n",
       "      <td>0b1e1539f2cc45b7b9fa7c272da2e1d7</td>\n",
       "      <td>NaN</td>\n",
       "    </tr>\n",
       "    <tr>\n",
       "      <th>2</th>\n",
       "      <td>e2127556f4f64592b11af22de27a7932</td>\n",
       "      <td>offer received</td>\n",
       "      <td>0</td>\n",
       "      <td>NaN</td>\n",
       "      <td>2906b810c7d4411798c6938adc9daaa5</td>\n",
       "      <td>NaN</td>\n",
       "    </tr>\n",
       "    <tr>\n",
       "      <th>3</th>\n",
       "      <td>8ec6ce2a7e7949b1bf142def7d0e0586</td>\n",
       "      <td>offer received</td>\n",
       "      <td>0</td>\n",
       "      <td>NaN</td>\n",
       "      <td>fafdcd668e3743c1bb461111dcafc2a4</td>\n",
       "      <td>NaN</td>\n",
       "    </tr>\n",
       "    <tr>\n",
       "      <th>4</th>\n",
       "      <td>68617ca6246f4fbc85e91a2a49552598</td>\n",
       "      <td>offer received</td>\n",
       "      <td>0</td>\n",
       "      <td>NaN</td>\n",
       "      <td>4d5c57ea9a6940dd891ad53e9dbe8da0</td>\n",
       "      <td>NaN</td>\n",
       "    </tr>\n",
       "  </tbody>\n",
       "</table>\n",
       "</div>"
      ],
      "text/plain": [
       "                            cust_id           event  time  amount  \\\n",
       "0  78afa995795e4d85b5d9ceeca43f5fef  offer received     0     NaN   \n",
       "1  a03223e636434f42ac4c3df47e8bac43  offer received     0     NaN   \n",
       "2  e2127556f4f64592b11af22de27a7932  offer received     0     NaN   \n",
       "3  8ec6ce2a7e7949b1bf142def7d0e0586  offer received     0     NaN   \n",
       "4  68617ca6246f4fbc85e91a2a49552598  offer received     0     NaN   \n",
       "\n",
       "                           offer_id  reward  \n",
       "0  9b98b8c7a33c4b65b9aebfe6a799e6d9     NaN  \n",
       "1  0b1e1539f2cc45b7b9fa7c272da2e1d7     NaN  \n",
       "2  2906b810c7d4411798c6938adc9daaa5     NaN  \n",
       "3  fafdcd668e3743c1bb461111dcafc2a4     NaN  \n",
       "4  4d5c57ea9a6940dd891ad53e9dbe8da0     NaN  "
      ]
     },
     "execution_count": 9,
     "metadata": {},
     "output_type": "execute_result"
    }
   ],
   "source": [
    "# Flatten the 'value' dictionary field into separate columns\n",
    "flat_dict = pd.json_normalize(transcript.value)\n",
    "flat_dict['offer_id'] = flat_dict['offer_id'].fillna(flat_dict['offer id'])\n",
    "flat_dict.drop(['offer id'], axis=1, inplace=True)\n",
    "transcript = pd.concat([transcript, flat_dict], axis=1)\n",
    "transcript.drop(['value'], axis=1, inplace=True)\n",
    "transcript.head()"
   ]
  },
  {
   "cell_type": "code",
   "execution_count": 10,
   "metadata": {},
   "outputs": [
    {
     "name": "stdout",
     "output_type": "stream",
     "text": [
      "<class 'pandas.core.frame.DataFrame'>\n",
      "RangeIndex: 306534 entries, 0 to 306533\n",
      "Data columns (total 6 columns):\n",
      " #   Column    Non-Null Count   Dtype  \n",
      "---  ------    --------------   -----  \n",
      " 0   cust_id   306534 non-null  object \n",
      " 1   event     306534 non-null  object \n",
      " 2   time      306534 non-null  int64  \n",
      " 3   amount    138953 non-null  float64\n",
      " 4   offer_id  167581 non-null  object \n",
      " 5   reward    33579 non-null   float64\n",
      "dtypes: float64(2), int64(1), object(3)\n",
      "memory usage: 14.0+ MB\n"
     ]
    }
   ],
   "source": [
    "transcript.info()"
   ]
  },
  {
   "cell_type": "code",
   "execution_count": 11,
   "metadata": {},
   "outputs": [
    {
     "data": {
      "text/plain": [
       "transaction        138953\n",
       "offer received      76277\n",
       "offer viewed        57725\n",
       "offer completed     33579\n",
       "Name: event, dtype: int64"
      ]
     },
     "execution_count": 11,
     "metadata": {},
     "output_type": "execute_result"
    }
   ],
   "source": [
    "transcript.event.value_counts()"
   ]
  },
  {
   "cell_type": "code",
   "execution_count": 12,
   "metadata": {},
   "outputs": [
    {
     "data": {
      "text/html": [
       "<div>\n",
       "<style scoped>\n",
       "    .dataframe tbody tr th:only-of-type {\n",
       "        vertical-align: middle;\n",
       "    }\n",
       "\n",
       "    .dataframe tbody tr th {\n",
       "        vertical-align: top;\n",
       "    }\n",
       "\n",
       "    .dataframe thead th {\n",
       "        text-align: right;\n",
       "    }\n",
       "</style>\n",
       "<table border=\"1\" class=\"dataframe\">\n",
       "  <thead>\n",
       "    <tr style=\"text-align: right;\">\n",
       "      <th></th>\n",
       "      <th>cust_id</th>\n",
       "      <th>event</th>\n",
       "      <th>time</th>\n",
       "      <th>amount</th>\n",
       "      <th>offer_id</th>\n",
       "      <th>reward</th>\n",
       "    </tr>\n",
       "  </thead>\n",
       "  <tbody>\n",
       "    <tr>\n",
       "      <th>0</th>\n",
       "      <td>78afa995795e4d85b5d9ceeca43f5fef</td>\n",
       "      <td>offer received</td>\n",
       "      <td>0</td>\n",
       "      <td>NaN</td>\n",
       "      <td>9b98b8c7a33c4b65b9aebfe6a799e6d9</td>\n",
       "      <td>NaN</td>\n",
       "    </tr>\n",
       "    <tr>\n",
       "      <th>15561</th>\n",
       "      <td>78afa995795e4d85b5d9ceeca43f5fef</td>\n",
       "      <td>offer viewed</td>\n",
       "      <td>6</td>\n",
       "      <td>NaN</td>\n",
       "      <td>9b98b8c7a33c4b65b9aebfe6a799e6d9</td>\n",
       "      <td>NaN</td>\n",
       "    </tr>\n",
       "    <tr>\n",
       "      <th>47582</th>\n",
       "      <td>78afa995795e4d85b5d9ceeca43f5fef</td>\n",
       "      <td>transaction</td>\n",
       "      <td>132</td>\n",
       "      <td>19.89</td>\n",
       "      <td>NaN</td>\n",
       "      <td>NaN</td>\n",
       "    </tr>\n",
       "    <tr>\n",
       "      <th>47583</th>\n",
       "      <td>78afa995795e4d85b5d9ceeca43f5fef</td>\n",
       "      <td>offer completed</td>\n",
       "      <td>132</td>\n",
       "      <td>NaN</td>\n",
       "      <td>9b98b8c7a33c4b65b9aebfe6a799e6d9</td>\n",
       "      <td>5.0</td>\n",
       "    </tr>\n",
       "    <tr>\n",
       "      <th>49502</th>\n",
       "      <td>78afa995795e4d85b5d9ceeca43f5fef</td>\n",
       "      <td>transaction</td>\n",
       "      <td>144</td>\n",
       "      <td>17.78</td>\n",
       "      <td>NaN</td>\n",
       "      <td>NaN</td>\n",
       "    </tr>\n",
       "    <tr>\n",
       "      <th>53176</th>\n",
       "      <td>78afa995795e4d85b5d9ceeca43f5fef</td>\n",
       "      <td>offer received</td>\n",
       "      <td>168</td>\n",
       "      <td>NaN</td>\n",
       "      <td>5a8bc65990b245e5a138643cd4eb9837</td>\n",
       "      <td>NaN</td>\n",
       "    </tr>\n",
       "    <tr>\n",
       "      <th>85291</th>\n",
       "      <td>78afa995795e4d85b5d9ceeca43f5fef</td>\n",
       "      <td>offer viewed</td>\n",
       "      <td>216</td>\n",
       "      <td>NaN</td>\n",
       "      <td>5a8bc65990b245e5a138643cd4eb9837</td>\n",
       "      <td>NaN</td>\n",
       "    </tr>\n",
       "    <tr>\n",
       "      <th>87134</th>\n",
       "      <td>78afa995795e4d85b5d9ceeca43f5fef</td>\n",
       "      <td>transaction</td>\n",
       "      <td>222</td>\n",
       "      <td>19.67</td>\n",
       "      <td>NaN</td>\n",
       "      <td>NaN</td>\n",
       "    </tr>\n",
       "    <tr>\n",
       "      <th>92104</th>\n",
       "      <td>78afa995795e4d85b5d9ceeca43f5fef</td>\n",
       "      <td>transaction</td>\n",
       "      <td>240</td>\n",
       "      <td>29.72</td>\n",
       "      <td>NaN</td>\n",
       "      <td>NaN</td>\n",
       "    </tr>\n",
       "    <tr>\n",
       "      <th>141566</th>\n",
       "      <td>78afa995795e4d85b5d9ceeca43f5fef</td>\n",
       "      <td>transaction</td>\n",
       "      <td>378</td>\n",
       "      <td>23.93</td>\n",
       "      <td>NaN</td>\n",
       "      <td>NaN</td>\n",
       "    </tr>\n",
       "    <tr>\n",
       "      <th>150598</th>\n",
       "      <td>78afa995795e4d85b5d9ceeca43f5fef</td>\n",
       "      <td>offer received</td>\n",
       "      <td>408</td>\n",
       "      <td>NaN</td>\n",
       "      <td>ae264e3637204a6fb9bb56bc8210ddfd</td>\n",
       "      <td>NaN</td>\n",
       "    </tr>\n",
       "    <tr>\n",
       "      <th>163375</th>\n",
       "      <td>78afa995795e4d85b5d9ceeca43f5fef</td>\n",
       "      <td>offer viewed</td>\n",
       "      <td>408</td>\n",
       "      <td>NaN</td>\n",
       "      <td>ae264e3637204a6fb9bb56bc8210ddfd</td>\n",
       "      <td>NaN</td>\n",
       "    </tr>\n",
       "    <tr>\n",
       "      <th>201572</th>\n",
       "      <td>78afa995795e4d85b5d9ceeca43f5fef</td>\n",
       "      <td>offer received</td>\n",
       "      <td>504</td>\n",
       "      <td>NaN</td>\n",
       "      <td>f19421c1d4aa40978ebb69ca19b0e20d</td>\n",
       "      <td>NaN</td>\n",
       "    </tr>\n",
       "    <tr>\n",
       "      <th>218393</th>\n",
       "      <td>78afa995795e4d85b5d9ceeca43f5fef</td>\n",
       "      <td>transaction</td>\n",
       "      <td>510</td>\n",
       "      <td>21.72</td>\n",
       "      <td>NaN</td>\n",
       "      <td>NaN</td>\n",
       "    </tr>\n",
       "    <tr>\n",
       "      <th>218394</th>\n",
       "      <td>78afa995795e4d85b5d9ceeca43f5fef</td>\n",
       "      <td>offer completed</td>\n",
       "      <td>510</td>\n",
       "      <td>NaN</td>\n",
       "      <td>ae264e3637204a6fb9bb56bc8210ddfd</td>\n",
       "      <td>10.0</td>\n",
       "    </tr>\n",
       "    <tr>\n",
       "      <th>218395</th>\n",
       "      <td>78afa995795e4d85b5d9ceeca43f5fef</td>\n",
       "      <td>offer completed</td>\n",
       "      <td>510</td>\n",
       "      <td>NaN</td>\n",
       "      <td>f19421c1d4aa40978ebb69ca19b0e20d</td>\n",
       "      <td>5.0</td>\n",
       "    </tr>\n",
       "    <tr>\n",
       "      <th>230412</th>\n",
       "      <td>78afa995795e4d85b5d9ceeca43f5fef</td>\n",
       "      <td>transaction</td>\n",
       "      <td>534</td>\n",
       "      <td>26.56</td>\n",
       "      <td>NaN</td>\n",
       "      <td>NaN</td>\n",
       "    </tr>\n",
       "    <tr>\n",
       "      <th>262138</th>\n",
       "      <td>78afa995795e4d85b5d9ceeca43f5fef</td>\n",
       "      <td>offer viewed</td>\n",
       "      <td>582</td>\n",
       "      <td>NaN</td>\n",
       "      <td>f19421c1d4aa40978ebb69ca19b0e20d</td>\n",
       "      <td>NaN</td>\n",
       "    </tr>\n",
       "  </tbody>\n",
       "</table>\n",
       "</div>"
      ],
      "text/plain": [
       "                                 cust_id            event  time  amount  \\\n",
       "0       78afa995795e4d85b5d9ceeca43f5fef   offer received     0     NaN   \n",
       "15561   78afa995795e4d85b5d9ceeca43f5fef     offer viewed     6     NaN   \n",
       "47582   78afa995795e4d85b5d9ceeca43f5fef      transaction   132   19.89   \n",
       "47583   78afa995795e4d85b5d9ceeca43f5fef  offer completed   132     NaN   \n",
       "49502   78afa995795e4d85b5d9ceeca43f5fef      transaction   144   17.78   \n",
       "53176   78afa995795e4d85b5d9ceeca43f5fef   offer received   168     NaN   \n",
       "85291   78afa995795e4d85b5d9ceeca43f5fef     offer viewed   216     NaN   \n",
       "87134   78afa995795e4d85b5d9ceeca43f5fef      transaction   222   19.67   \n",
       "92104   78afa995795e4d85b5d9ceeca43f5fef      transaction   240   29.72   \n",
       "141566  78afa995795e4d85b5d9ceeca43f5fef      transaction   378   23.93   \n",
       "150598  78afa995795e4d85b5d9ceeca43f5fef   offer received   408     NaN   \n",
       "163375  78afa995795e4d85b5d9ceeca43f5fef     offer viewed   408     NaN   \n",
       "201572  78afa995795e4d85b5d9ceeca43f5fef   offer received   504     NaN   \n",
       "218393  78afa995795e4d85b5d9ceeca43f5fef      transaction   510   21.72   \n",
       "218394  78afa995795e4d85b5d9ceeca43f5fef  offer completed   510     NaN   \n",
       "218395  78afa995795e4d85b5d9ceeca43f5fef  offer completed   510     NaN   \n",
       "230412  78afa995795e4d85b5d9ceeca43f5fef      transaction   534   26.56   \n",
       "262138  78afa995795e4d85b5d9ceeca43f5fef     offer viewed   582     NaN   \n",
       "\n",
       "                                offer_id  reward  \n",
       "0       9b98b8c7a33c4b65b9aebfe6a799e6d9     NaN  \n",
       "15561   9b98b8c7a33c4b65b9aebfe6a799e6d9     NaN  \n",
       "47582                                NaN     NaN  \n",
       "47583   9b98b8c7a33c4b65b9aebfe6a799e6d9     5.0  \n",
       "49502                                NaN     NaN  \n",
       "53176   5a8bc65990b245e5a138643cd4eb9837     NaN  \n",
       "85291   5a8bc65990b245e5a138643cd4eb9837     NaN  \n",
       "87134                                NaN     NaN  \n",
       "92104                                NaN     NaN  \n",
       "141566                               NaN     NaN  \n",
       "150598  ae264e3637204a6fb9bb56bc8210ddfd     NaN  \n",
       "163375  ae264e3637204a6fb9bb56bc8210ddfd     NaN  \n",
       "201572  f19421c1d4aa40978ebb69ca19b0e20d     NaN  \n",
       "218393                               NaN     NaN  \n",
       "218394  ae264e3637204a6fb9bb56bc8210ddfd    10.0  \n",
       "218395  f19421c1d4aa40978ebb69ca19b0e20d     5.0  \n",
       "230412                               NaN     NaN  \n",
       "262138  f19421c1d4aa40978ebb69ca19b0e20d     NaN  "
      ]
     },
     "execution_count": 12,
     "metadata": {},
     "output_type": "execute_result"
    }
   ],
   "source": [
    "# Examine the event history for a single example customer\n",
    "mask = transcript.cust_id == '78afa995795e4d85b5d9ceeca43f5fef'\n",
    "transcript.loc[mask,:]"
   ]
  },
  {
   "cell_type": "markdown",
   "metadata": {},
   "source": [
    "# Transcript Notes\n",
    "\n",
    "## Event Order\n",
    "\n",
    "There are several ways the order of events may unfold:\n",
    "\n",
    "1. Transaction (NOT influenced by offer)\n",
    "2. Offer Received, Transaction, Order Completed (NOT influenced by offer since they didn't view it)\n",
    "3. Offer Received, Offer Viewed, Offer Expires (NOT influenced by offer)\n",
    "4. Offer Received, Offer Expires (NOT influenced by offer)\n",
    "5. Offer Received, Transaction, Order Completed, Order Viewed (NOT influenced by offer)\n",
    "6. Offer Received, Transaction, Order Completed (NOT influenced by offer)\n",
    "7. Offer Received, Offer Viewed, Transaction, Offer Completed (influenced by offer)\n",
    "8. Offer Received, Offer Viewed, Transaction within Informational offer duration (influenced by offer)\n",
    "\n",
    "It seems that if we want to figure out who is influenced by an offer that we need a flag indicating if sequence of events #7 or #8 above occurred for each offer received. We should also record the total amount of offer and non-offer spend a each customer has.\n",
    "\n",
    "\n",
    "## Identify People Who Would Have Bought Anyway\n",
    "We also need to try to identify the demographics of customers who seem to buy regardless of offers received so that they may be excluded from the offer campaigns."
   ]
  },
  {
   "cell_type": "markdown",
   "metadata": {},
   "source": [
    "# Data Cleaning\n",
    "\n",
    "Combine transaction, profile, and portfolio data into one dataframe so that we can use it for machine learning.  Transcript data should be reduced to one record per offer, which then has the customer demographics and offer attributes appeneded."
   ]
  },
  {
   "cell_type": "code",
   "execution_count": 13,
   "metadata": {},
   "outputs": [
    {
     "data": {
      "text/html": [
       "<div>\n",
       "<style scoped>\n",
       "    .dataframe tbody tr th:only-of-type {\n",
       "        vertical-align: middle;\n",
       "    }\n",
       "\n",
       "    .dataframe tbody tr th {\n",
       "        vertical-align: top;\n",
       "    }\n",
       "\n",
       "    .dataframe thead th {\n",
       "        text-align: right;\n",
       "    }\n",
       "</style>\n",
       "<table border=\"1\" class=\"dataframe\">\n",
       "  <thead>\n",
       "    <tr style=\"text-align: right;\">\n",
       "      <th></th>\n",
       "      <th>reward</th>\n",
       "      <th>difficulty</th>\n",
       "      <th>duration</th>\n",
       "      <th>offer_type</th>\n",
       "      <th>offer_id</th>\n",
       "      <th>web</th>\n",
       "      <th>email</th>\n",
       "      <th>mobile</th>\n",
       "      <th>social</th>\n",
       "    </tr>\n",
       "  </thead>\n",
       "  <tbody>\n",
       "    <tr>\n",
       "      <th>0</th>\n",
       "      <td>10</td>\n",
       "      <td>10</td>\n",
       "      <td>7</td>\n",
       "      <td>bogo</td>\n",
       "      <td>ae264e3637204a6fb9bb56bc8210ddfd</td>\n",
       "      <td>0</td>\n",
       "      <td>1</td>\n",
       "      <td>1</td>\n",
       "      <td>1</td>\n",
       "    </tr>\n",
       "    <tr>\n",
       "      <th>1</th>\n",
       "      <td>10</td>\n",
       "      <td>10</td>\n",
       "      <td>5</td>\n",
       "      <td>bogo</td>\n",
       "      <td>4d5c57ea9a6940dd891ad53e9dbe8da0</td>\n",
       "      <td>1</td>\n",
       "      <td>1</td>\n",
       "      <td>1</td>\n",
       "      <td>1</td>\n",
       "    </tr>\n",
       "    <tr>\n",
       "      <th>2</th>\n",
       "      <td>0</td>\n",
       "      <td>0</td>\n",
       "      <td>4</td>\n",
       "      <td>informational</td>\n",
       "      <td>3f207df678b143eea3cee63160fa8bed</td>\n",
       "      <td>1</td>\n",
       "      <td>1</td>\n",
       "      <td>1</td>\n",
       "      <td>0</td>\n",
       "    </tr>\n",
       "    <tr>\n",
       "      <th>3</th>\n",
       "      <td>5</td>\n",
       "      <td>5</td>\n",
       "      <td>7</td>\n",
       "      <td>bogo</td>\n",
       "      <td>9b98b8c7a33c4b65b9aebfe6a799e6d9</td>\n",
       "      <td>1</td>\n",
       "      <td>1</td>\n",
       "      <td>1</td>\n",
       "      <td>0</td>\n",
       "    </tr>\n",
       "    <tr>\n",
       "      <th>4</th>\n",
       "      <td>5</td>\n",
       "      <td>20</td>\n",
       "      <td>10</td>\n",
       "      <td>discount</td>\n",
       "      <td>0b1e1539f2cc45b7b9fa7c272da2e1d7</td>\n",
       "      <td>1</td>\n",
       "      <td>1</td>\n",
       "      <td>0</td>\n",
       "      <td>0</td>\n",
       "    </tr>\n",
       "  </tbody>\n",
       "</table>\n",
       "</div>"
      ],
      "text/plain": [
       "   reward  difficulty  duration     offer_type  \\\n",
       "0      10          10         7           bogo   \n",
       "1      10          10         5           bogo   \n",
       "2       0           0         4  informational   \n",
       "3       5           5         7           bogo   \n",
       "4       5          20        10       discount   \n",
       "\n",
       "                           offer_id  web  email  mobile  social  \n",
       "0  ae264e3637204a6fb9bb56bc8210ddfd    0      1       1       1  \n",
       "1  4d5c57ea9a6940dd891ad53e9dbe8da0    1      1       1       1  \n",
       "2  3f207df678b143eea3cee63160fa8bed    1      1       1       0  \n",
       "3  9b98b8c7a33c4b65b9aebfe6a799e6d9    1      1       1       0  \n",
       "4  0b1e1539f2cc45b7b9fa7c272da2e1d7    1      1       0       0  "
      ]
     },
     "execution_count": 13,
     "metadata": {},
     "output_type": "execute_result"
    }
   ],
   "source": [
    "# Flatten the 'channels' column in the portfolio dataframe into indicator columns\n",
    "\n",
    "# From https://towardsdatascience.com/dealing-with-list-values-in-pandas-dataframes-a177e534f173\n",
    "def boolean_df(item_lists, unique_items):\n",
    "# Create empty dict\n",
    "    bool_dict = {}\n",
    "    \n",
    "    # Loop through all the tags\n",
    "    for i, item in enumerate(unique_items):\n",
    "        \n",
    "        # Apply boolean mask\n",
    "        bool_dict[item] = item_lists.apply(lambda x: (item in x)).astype(int)\n",
    "            \n",
    "    # Return the results as a dataframe\n",
    "    return pd.DataFrame(bool_dict)\n",
    "\n",
    "channels = ['web','email','mobile','social']\n",
    "portfolio = pd.concat([portfolio, boolean_df(portfolio.channels, channels)], axis=1).drop(['channels'], axis=1)\n",
    "portfolio.head()"
   ]
  },
  {
   "cell_type": "code",
   "execution_count": 14,
   "metadata": {},
   "outputs": [
    {
     "data": {
      "text/html": [
       "<div>\n",
       "<style scoped>\n",
       "    .dataframe tbody tr th:only-of-type {\n",
       "        vertical-align: middle;\n",
       "    }\n",
       "\n",
       "    .dataframe tbody tr th {\n",
       "        vertical-align: top;\n",
       "    }\n",
       "\n",
       "    .dataframe thead th {\n",
       "        text-align: right;\n",
       "    }\n",
       "</style>\n",
       "<table border=\"1\" class=\"dataframe\">\n",
       "  <thead>\n",
       "    <tr style=\"text-align: right;\">\n",
       "      <th></th>\n",
       "      <th>cust_id</th>\n",
       "      <th>event</th>\n",
       "      <th>time</th>\n",
       "      <th>amount</th>\n",
       "      <th>offer_id</th>\n",
       "      <th>reward_x</th>\n",
       "      <th>reward_y</th>\n",
       "      <th>difficulty</th>\n",
       "      <th>duration</th>\n",
       "      <th>offer_type</th>\n",
       "      <th>web</th>\n",
       "      <th>email</th>\n",
       "      <th>mobile</th>\n",
       "      <th>social</th>\n",
       "    </tr>\n",
       "  </thead>\n",
       "  <tbody>\n",
       "    <tr>\n",
       "      <th>0</th>\n",
       "      <td>78afa995795e4d85b5d9ceeca43f5fef</td>\n",
       "      <td>offer received</td>\n",
       "      <td>0</td>\n",
       "      <td>NaN</td>\n",
       "      <td>9b98b8c7a33c4b65b9aebfe6a799e6d9</td>\n",
       "      <td>NaN</td>\n",
       "      <td>5.0</td>\n",
       "      <td>5.0</td>\n",
       "      <td>7.0</td>\n",
       "      <td>bogo</td>\n",
       "      <td>1.0</td>\n",
       "      <td>1.0</td>\n",
       "      <td>1.0</td>\n",
       "      <td>0.0</td>\n",
       "    </tr>\n",
       "    <tr>\n",
       "      <th>1</th>\n",
       "      <td>a03223e636434f42ac4c3df47e8bac43</td>\n",
       "      <td>offer received</td>\n",
       "      <td>0</td>\n",
       "      <td>NaN</td>\n",
       "      <td>0b1e1539f2cc45b7b9fa7c272da2e1d7</td>\n",
       "      <td>NaN</td>\n",
       "      <td>5.0</td>\n",
       "      <td>20.0</td>\n",
       "      <td>10.0</td>\n",
       "      <td>discount</td>\n",
       "      <td>1.0</td>\n",
       "      <td>1.0</td>\n",
       "      <td>0.0</td>\n",
       "      <td>0.0</td>\n",
       "    </tr>\n",
       "    <tr>\n",
       "      <th>2</th>\n",
       "      <td>e2127556f4f64592b11af22de27a7932</td>\n",
       "      <td>offer received</td>\n",
       "      <td>0</td>\n",
       "      <td>NaN</td>\n",
       "      <td>2906b810c7d4411798c6938adc9daaa5</td>\n",
       "      <td>NaN</td>\n",
       "      <td>2.0</td>\n",
       "      <td>10.0</td>\n",
       "      <td>7.0</td>\n",
       "      <td>discount</td>\n",
       "      <td>1.0</td>\n",
       "      <td>1.0</td>\n",
       "      <td>1.0</td>\n",
       "      <td>0.0</td>\n",
       "    </tr>\n",
       "    <tr>\n",
       "      <th>3</th>\n",
       "      <td>8ec6ce2a7e7949b1bf142def7d0e0586</td>\n",
       "      <td>offer received</td>\n",
       "      <td>0</td>\n",
       "      <td>NaN</td>\n",
       "      <td>fafdcd668e3743c1bb461111dcafc2a4</td>\n",
       "      <td>NaN</td>\n",
       "      <td>2.0</td>\n",
       "      <td>10.0</td>\n",
       "      <td>10.0</td>\n",
       "      <td>discount</td>\n",
       "      <td>1.0</td>\n",
       "      <td>1.0</td>\n",
       "      <td>1.0</td>\n",
       "      <td>1.0</td>\n",
       "    </tr>\n",
       "    <tr>\n",
       "      <th>4</th>\n",
       "      <td>68617ca6246f4fbc85e91a2a49552598</td>\n",
       "      <td>offer received</td>\n",
       "      <td>0</td>\n",
       "      <td>NaN</td>\n",
       "      <td>4d5c57ea9a6940dd891ad53e9dbe8da0</td>\n",
       "      <td>NaN</td>\n",
       "      <td>10.0</td>\n",
       "      <td>10.0</td>\n",
       "      <td>5.0</td>\n",
       "      <td>bogo</td>\n",
       "      <td>1.0</td>\n",
       "      <td>1.0</td>\n",
       "      <td>1.0</td>\n",
       "      <td>1.0</td>\n",
       "    </tr>\n",
       "  </tbody>\n",
       "</table>\n",
       "</div>"
      ],
      "text/plain": [
       "                            cust_id           event  time  amount  \\\n",
       "0  78afa995795e4d85b5d9ceeca43f5fef  offer received     0     NaN   \n",
       "1  a03223e636434f42ac4c3df47e8bac43  offer received     0     NaN   \n",
       "2  e2127556f4f64592b11af22de27a7932  offer received     0     NaN   \n",
       "3  8ec6ce2a7e7949b1bf142def7d0e0586  offer received     0     NaN   \n",
       "4  68617ca6246f4fbc85e91a2a49552598  offer received     0     NaN   \n",
       "\n",
       "                           offer_id  reward_x  reward_y  difficulty  duration  \\\n",
       "0  9b98b8c7a33c4b65b9aebfe6a799e6d9       NaN       5.0         5.0       7.0   \n",
       "1  0b1e1539f2cc45b7b9fa7c272da2e1d7       NaN       5.0        20.0      10.0   \n",
       "2  2906b810c7d4411798c6938adc9daaa5       NaN       2.0        10.0       7.0   \n",
       "3  fafdcd668e3743c1bb461111dcafc2a4       NaN       2.0        10.0      10.0   \n",
       "4  4d5c57ea9a6940dd891ad53e9dbe8da0       NaN      10.0        10.0       5.0   \n",
       "\n",
       "  offer_type  web  email  mobile  social  \n",
       "0       bogo  1.0    1.0     1.0     0.0  \n",
       "1   discount  1.0    1.0     0.0     0.0  \n",
       "2   discount  1.0    1.0     1.0     0.0  \n",
       "3   discount  1.0    1.0     1.0     1.0  \n",
       "4       bogo  1.0    1.0     1.0     1.0  "
      ]
     },
     "execution_count": 14,
     "metadata": {},
     "output_type": "execute_result"
    }
   ],
   "source": [
    "# Merge portfolio offer data to the transcript table\n",
    "transcript = transcript.merge(portfolio, on='offer_id', how='left')\n",
    "transcript.head()"
   ]
  },
  {
   "cell_type": "code",
   "execution_count": 15,
   "metadata": {},
   "outputs": [
    {
     "data": {
      "text/html": [
       "<div>\n",
       "<style scoped>\n",
       "    .dataframe tbody tr th:only-of-type {\n",
       "        vertical-align: middle;\n",
       "    }\n",
       "\n",
       "    .dataframe tbody tr th {\n",
       "        vertical-align: top;\n",
       "    }\n",
       "\n",
       "    .dataframe thead th {\n",
       "        text-align: right;\n",
       "    }\n",
       "</style>\n",
       "<table border=\"1\" class=\"dataframe\">\n",
       "  <thead>\n",
       "    <tr style=\"text-align: right;\">\n",
       "      <th></th>\n",
       "      <th>gender</th>\n",
       "      <th>age</th>\n",
       "      <th>cust_id</th>\n",
       "      <th>income</th>\n",
       "      <th>member_days</th>\n",
       "      <th>gender_F</th>\n",
       "      <th>gender_M</th>\n",
       "      <th>gender_O</th>\n",
       "    </tr>\n",
       "  </thead>\n",
       "  <tbody>\n",
       "    <tr>\n",
       "      <th>0</th>\n",
       "      <td>None</td>\n",
       "      <td>118</td>\n",
       "      <td>68be06ca386d4c31939f3a4f0e3dd783</td>\n",
       "      <td>NaN</td>\n",
       "      <td>529</td>\n",
       "      <td>0</td>\n",
       "      <td>0</td>\n",
       "      <td>0</td>\n",
       "    </tr>\n",
       "    <tr>\n",
       "      <th>1</th>\n",
       "      <td>F</td>\n",
       "      <td>55</td>\n",
       "      <td>0610b486422d4921ae7d2bf64640c50b</td>\n",
       "      <td>112000.0</td>\n",
       "      <td>376</td>\n",
       "      <td>1</td>\n",
       "      <td>0</td>\n",
       "      <td>0</td>\n",
       "    </tr>\n",
       "    <tr>\n",
       "      <th>2</th>\n",
       "      <td>None</td>\n",
       "      <td>118</td>\n",
       "      <td>38fe809add3b4fcf9315a9694bb96ff5</td>\n",
       "      <td>NaN</td>\n",
       "      <td>14</td>\n",
       "      <td>0</td>\n",
       "      <td>0</td>\n",
       "      <td>0</td>\n",
       "    </tr>\n",
       "    <tr>\n",
       "      <th>3</th>\n",
       "      <td>F</td>\n",
       "      <td>75</td>\n",
       "      <td>78afa995795e4d85b5d9ceeca43f5fef</td>\n",
       "      <td>100000.0</td>\n",
       "      <td>443</td>\n",
       "      <td>1</td>\n",
       "      <td>0</td>\n",
       "      <td>0</td>\n",
       "    </tr>\n",
       "    <tr>\n",
       "      <th>4</th>\n",
       "      <td>None</td>\n",
       "      <td>118</td>\n",
       "      <td>a03223e636434f42ac4c3df47e8bac43</td>\n",
       "      <td>NaN</td>\n",
       "      <td>356</td>\n",
       "      <td>0</td>\n",
       "      <td>0</td>\n",
       "      <td>0</td>\n",
       "    </tr>\n",
       "  </tbody>\n",
       "</table>\n",
       "</div>"
      ],
      "text/plain": [
       "  gender  age                           cust_id    income  member_days  \\\n",
       "0   None  118  68be06ca386d4c31939f3a4f0e3dd783       NaN          529   \n",
       "1      F   55  0610b486422d4921ae7d2bf64640c50b  112000.0          376   \n",
       "2   None  118  38fe809add3b4fcf9315a9694bb96ff5       NaN           14   \n",
       "3      F   75  78afa995795e4d85b5d9ceeca43f5fef  100000.0          443   \n",
       "4   None  118  a03223e636434f42ac4c3df47e8bac43       NaN          356   \n",
       "\n",
       "   gender_F  gender_M  gender_O  \n",
       "0         0         0         0  \n",
       "1         1         0         0  \n",
       "2         0         0         0  \n",
       "3         1         0         0  \n",
       "4         0         0         0  "
      ]
     },
     "execution_count": 15,
     "metadata": {},
     "output_type": "execute_result"
    }
   ],
   "source": [
    "# Convert member date to number of days from the maximum member date in the data set\n",
    "profile['became_member_on'] = pd.to_datetime(profile['became_member_on'].astype(str), format='%Y%m%d')\n",
    "profile['member_days'] = (profile.became_member_on.max() - profile.became_member_on).dt.days\n",
    "profile.drop(['became_member_on'], axis=1, inplace=True)\n",
    "\n",
    "# One-hot encode the 'gender' column\n",
    "profile = pd.concat([profile[:], pd.get_dummies(profile['gender'], prefix='gender')], axis=1)\n",
    "# .drop(['gender'], axis=1)\n",
    "\n",
    "profile.head()"
   ]
  },
  {
   "cell_type": "code",
   "execution_count": 16,
   "metadata": {},
   "outputs": [
    {
     "name": "stdout",
     "output_type": "stream",
     "text": [
      "<class 'pandas.core.frame.DataFrame'>\n",
      "RangeIndex: 17000 entries, 0 to 16999\n",
      "Data columns (total 8 columns):\n",
      " #   Column       Non-Null Count  Dtype  \n",
      "---  ------       --------------  -----  \n",
      " 0   gender       14825 non-null  object \n",
      " 1   age          17000 non-null  int64  \n",
      " 2   cust_id      17000 non-null  object \n",
      " 3   income       14825 non-null  float64\n",
      " 4   member_days  17000 non-null  int64  \n",
      " 5   gender_F     17000 non-null  uint8  \n",
      " 6   gender_M     17000 non-null  uint8  \n",
      " 7   gender_O     17000 non-null  uint8  \n",
      "dtypes: float64(1), int64(2), object(2), uint8(3)\n",
      "memory usage: 714.0+ KB\n"
     ]
    }
   ],
   "source": [
    "profile.info()"
   ]
  },
  {
   "cell_type": "code",
   "execution_count": 17,
   "metadata": {},
   "outputs": [
    {
     "data": {
      "text/html": [
       "<div>\n",
       "<style scoped>\n",
       "    .dataframe tbody tr th:only-of-type {\n",
       "        vertical-align: middle;\n",
       "    }\n",
       "\n",
       "    .dataframe tbody tr th {\n",
       "        vertical-align: top;\n",
       "    }\n",
       "\n",
       "    .dataframe thead th {\n",
       "        text-align: right;\n",
       "    }\n",
       "</style>\n",
       "<table border=\"1\" class=\"dataframe\">\n",
       "  <thead>\n",
       "    <tr style=\"text-align: right;\">\n",
       "      <th></th>\n",
       "      <th>cust_id</th>\n",
       "      <th>event</th>\n",
       "      <th>time</th>\n",
       "      <th>amount</th>\n",
       "      <th>offer_id</th>\n",
       "      <th>reward_x</th>\n",
       "      <th>reward_y</th>\n",
       "      <th>difficulty</th>\n",
       "      <th>duration</th>\n",
       "      <th>offer_type</th>\n",
       "      <th>...</th>\n",
       "      <th>email</th>\n",
       "      <th>mobile</th>\n",
       "      <th>social</th>\n",
       "      <th>gender</th>\n",
       "      <th>age</th>\n",
       "      <th>income</th>\n",
       "      <th>member_days</th>\n",
       "      <th>gender_F</th>\n",
       "      <th>gender_M</th>\n",
       "      <th>gender_O</th>\n",
       "    </tr>\n",
       "  </thead>\n",
       "  <tbody>\n",
       "    <tr>\n",
       "      <th>0</th>\n",
       "      <td>78afa995795e4d85b5d9ceeca43f5fef</td>\n",
       "      <td>offer received</td>\n",
       "      <td>0</td>\n",
       "      <td>NaN</td>\n",
       "      <td>9b98b8c7a33c4b65b9aebfe6a799e6d9</td>\n",
       "      <td>NaN</td>\n",
       "      <td>5.0</td>\n",
       "      <td>5.0</td>\n",
       "      <td>7.0</td>\n",
       "      <td>bogo</td>\n",
       "      <td>...</td>\n",
       "      <td>1.0</td>\n",
       "      <td>1.0</td>\n",
       "      <td>0.0</td>\n",
       "      <td>F</td>\n",
       "      <td>75</td>\n",
       "      <td>100000.0</td>\n",
       "      <td>443</td>\n",
       "      <td>1</td>\n",
       "      <td>0</td>\n",
       "      <td>0</td>\n",
       "    </tr>\n",
       "    <tr>\n",
       "      <th>2</th>\n",
       "      <td>e2127556f4f64592b11af22de27a7932</td>\n",
       "      <td>offer received</td>\n",
       "      <td>0</td>\n",
       "      <td>NaN</td>\n",
       "      <td>2906b810c7d4411798c6938adc9daaa5</td>\n",
       "      <td>NaN</td>\n",
       "      <td>2.0</td>\n",
       "      <td>10.0</td>\n",
       "      <td>7.0</td>\n",
       "      <td>discount</td>\n",
       "      <td>...</td>\n",
       "      <td>1.0</td>\n",
       "      <td>1.0</td>\n",
       "      <td>0.0</td>\n",
       "      <td>M</td>\n",
       "      <td>68</td>\n",
       "      <td>70000.0</td>\n",
       "      <td>91</td>\n",
       "      <td>0</td>\n",
       "      <td>1</td>\n",
       "      <td>0</td>\n",
       "    </tr>\n",
       "    <tr>\n",
       "      <th>5</th>\n",
       "      <td>389bc3fa690240e798340f5a15918d5c</td>\n",
       "      <td>offer received</td>\n",
       "      <td>0</td>\n",
       "      <td>NaN</td>\n",
       "      <td>f19421c1d4aa40978ebb69ca19b0e20d</td>\n",
       "      <td>NaN</td>\n",
       "      <td>5.0</td>\n",
       "      <td>5.0</td>\n",
       "      <td>5.0</td>\n",
       "      <td>bogo</td>\n",
       "      <td>...</td>\n",
       "      <td>1.0</td>\n",
       "      <td>1.0</td>\n",
       "      <td>1.0</td>\n",
       "      <td>M</td>\n",
       "      <td>65</td>\n",
       "      <td>53000.0</td>\n",
       "      <td>167</td>\n",
       "      <td>0</td>\n",
       "      <td>1</td>\n",
       "      <td>0</td>\n",
       "    </tr>\n",
       "    <tr>\n",
       "      <th>7</th>\n",
       "      <td>2eeac8d8feae4a8cad5a6af0499a211d</td>\n",
       "      <td>offer received</td>\n",
       "      <td>0</td>\n",
       "      <td>NaN</td>\n",
       "      <td>3f207df678b143eea3cee63160fa8bed</td>\n",
       "      <td>NaN</td>\n",
       "      <td>0.0</td>\n",
       "      <td>0.0</td>\n",
       "      <td>4.0</td>\n",
       "      <td>informational</td>\n",
       "      <td>...</td>\n",
       "      <td>1.0</td>\n",
       "      <td>1.0</td>\n",
       "      <td>0.0</td>\n",
       "      <td>M</td>\n",
       "      <td>58</td>\n",
       "      <td>51000.0</td>\n",
       "      <td>257</td>\n",
       "      <td>0</td>\n",
       "      <td>1</td>\n",
       "      <td>0</td>\n",
       "    </tr>\n",
       "    <tr>\n",
       "      <th>8</th>\n",
       "      <td>aa4862eba776480b8bb9c68455b8c2e1</td>\n",
       "      <td>offer received</td>\n",
       "      <td>0</td>\n",
       "      <td>NaN</td>\n",
       "      <td>0b1e1539f2cc45b7b9fa7c272da2e1d7</td>\n",
       "      <td>NaN</td>\n",
       "      <td>5.0</td>\n",
       "      <td>20.0</td>\n",
       "      <td>10.0</td>\n",
       "      <td>discount</td>\n",
       "      <td>...</td>\n",
       "      <td>1.0</td>\n",
       "      <td>0.0</td>\n",
       "      <td>0.0</td>\n",
       "      <td>F</td>\n",
       "      <td>61</td>\n",
       "      <td>57000.0</td>\n",
       "      <td>318</td>\n",
       "      <td>1</td>\n",
       "      <td>0</td>\n",
       "      <td>0</td>\n",
       "    </tr>\n",
       "  </tbody>\n",
       "</table>\n",
       "<p>5 rows × 21 columns</p>\n",
       "</div>"
      ],
      "text/plain": [
       "                            cust_id           event  time  amount  \\\n",
       "0  78afa995795e4d85b5d9ceeca43f5fef  offer received     0     NaN   \n",
       "2  e2127556f4f64592b11af22de27a7932  offer received     0     NaN   \n",
       "5  389bc3fa690240e798340f5a15918d5c  offer received     0     NaN   \n",
       "7  2eeac8d8feae4a8cad5a6af0499a211d  offer received     0     NaN   \n",
       "8  aa4862eba776480b8bb9c68455b8c2e1  offer received     0     NaN   \n",
       "\n",
       "                           offer_id  reward_x  reward_y  difficulty  duration  \\\n",
       "0  9b98b8c7a33c4b65b9aebfe6a799e6d9       NaN       5.0         5.0       7.0   \n",
       "2  2906b810c7d4411798c6938adc9daaa5       NaN       2.0        10.0       7.0   \n",
       "5  f19421c1d4aa40978ebb69ca19b0e20d       NaN       5.0         5.0       5.0   \n",
       "7  3f207df678b143eea3cee63160fa8bed       NaN       0.0         0.0       4.0   \n",
       "8  0b1e1539f2cc45b7b9fa7c272da2e1d7       NaN       5.0        20.0      10.0   \n",
       "\n",
       "      offer_type  ...  email  mobile  social  gender age    income  \\\n",
       "0           bogo  ...    1.0     1.0     0.0       F  75  100000.0   \n",
       "2       discount  ...    1.0     1.0     0.0       M  68   70000.0   \n",
       "5           bogo  ...    1.0     1.0     1.0       M  65   53000.0   \n",
       "7  informational  ...    1.0     1.0     0.0       M  58   51000.0   \n",
       "8       discount  ...    1.0     0.0     0.0       F  61   57000.0   \n",
       "\n",
       "   member_days  gender_F  gender_M  gender_O  \n",
       "0          443         1         0         0  \n",
       "2           91         0         1         0  \n",
       "5          167         0         1         0  \n",
       "7          257         0         1         0  \n",
       "8          318         1         0         0  \n",
       "\n",
       "[5 rows x 21 columns]"
      ]
     },
     "execution_count": 17,
     "metadata": {},
     "output_type": "execute_result"
    }
   ],
   "source": [
    "# Merge profile data to the transcript table\n",
    "transcript = transcript.merge(profile, on='cust_id', how='left')\n",
    "\n",
    "# Drop rows in the profile and transcript dataframes with missing income, gender\n",
    "profile.dropna(inplace=True)\n",
    "transcript.dropna(subset = ['income'], inplace=True)\n",
    "\n",
    "transcript.head()"
   ]
  },
  {
   "cell_type": "markdown",
   "metadata": {},
   "source": [
    "### Notes:\n",
    "\n",
    "1. Focus on 'offer received' events, keep one record for each offer and indicate whether it resulted in a transaction or not.\n",
    "2. For each transaction, is there an 'offer completed' event with the same timestamp?  This works with BOGO and Discount offers. Is there an 'offer viewed' event for this offer with a timestamp between the 'offer received' and the transaction?\n",
    "3. For 'informational' offers, are there one or more 'transaction' events after an 'offer viewed' event within the offer duration?\n",
    "\n",
    "    "
   ]
  },
  {
   "cell_type": "code",
   "execution_count": 18,
   "metadata": {},
   "outputs": [
    {
     "data": {
      "text/html": [
       "<div>\n",
       "<style scoped>\n",
       "    .dataframe tbody tr th:only-of-type {\n",
       "        vertical-align: middle;\n",
       "    }\n",
       "\n",
       "    .dataframe tbody tr th {\n",
       "        vertical-align: top;\n",
       "    }\n",
       "\n",
       "    .dataframe thead th {\n",
       "        text-align: right;\n",
       "    }\n",
       "</style>\n",
       "<table border=\"1\" class=\"dataframe\">\n",
       "  <thead>\n",
       "    <tr style=\"text-align: right;\">\n",
       "      <th></th>\n",
       "      <th>cust_id</th>\n",
       "      <th>time</th>\n",
       "      <th>amount</th>\n",
       "      <th>offer_id</th>\n",
       "      <th>reward_x</th>\n",
       "      <th>reward_y</th>\n",
       "      <th>difficulty</th>\n",
       "      <th>duration</th>\n",
       "      <th>offer_type</th>\n",
       "      <th>web</th>\n",
       "      <th>...</th>\n",
       "      <th>mobile</th>\n",
       "      <th>social</th>\n",
       "      <th>gender</th>\n",
       "      <th>age</th>\n",
       "      <th>income</th>\n",
       "      <th>member_days</th>\n",
       "      <th>gender_F</th>\n",
       "      <th>gender_M</th>\n",
       "      <th>gender_O</th>\n",
       "      <th>success</th>\n",
       "    </tr>\n",
       "  </thead>\n",
       "  <tbody>\n",
       "    <tr>\n",
       "      <th>0</th>\n",
       "      <td>0610b486422d4921ae7d2bf64640c50b</td>\n",
       "      <td>408</td>\n",
       "      <td>NaN</td>\n",
       "      <td>9b98b8c7a33c4b65b9aebfe6a799e6d9</td>\n",
       "      <td>NaN</td>\n",
       "      <td>5.0</td>\n",
       "      <td>5.0</td>\n",
       "      <td>7.0</td>\n",
       "      <td>bogo</td>\n",
       "      <td>1.0</td>\n",
       "      <td>...</td>\n",
       "      <td>1.0</td>\n",
       "      <td>0.0</td>\n",
       "      <td>F</td>\n",
       "      <td>55</td>\n",
       "      <td>112000.0</td>\n",
       "      <td>376</td>\n",
       "      <td>1</td>\n",
       "      <td>0</td>\n",
       "      <td>0</td>\n",
       "      <td>0</td>\n",
       "    </tr>\n",
       "    <tr>\n",
       "      <th>1</th>\n",
       "      <td>0610b486422d4921ae7d2bf64640c50b</td>\n",
       "      <td>504</td>\n",
       "      <td>NaN</td>\n",
       "      <td>3f207df678b143eea3cee63160fa8bed</td>\n",
       "      <td>NaN</td>\n",
       "      <td>0.0</td>\n",
       "      <td>0.0</td>\n",
       "      <td>4.0</td>\n",
       "      <td>informational</td>\n",
       "      <td>1.0</td>\n",
       "      <td>...</td>\n",
       "      <td>1.0</td>\n",
       "      <td>0.0</td>\n",
       "      <td>F</td>\n",
       "      <td>55</td>\n",
       "      <td>112000.0</td>\n",
       "      <td>376</td>\n",
       "      <td>1</td>\n",
       "      <td>0</td>\n",
       "      <td>0</td>\n",
       "      <td>0</td>\n",
       "    </tr>\n",
       "    <tr>\n",
       "      <th>2</th>\n",
       "      <td>78afa995795e4d85b5d9ceeca43f5fef</td>\n",
       "      <td>132</td>\n",
       "      <td>19.89</td>\n",
       "      <td>9b98b8c7a33c4b65b9aebfe6a799e6d9</td>\n",
       "      <td>5.0</td>\n",
       "      <td>5.0</td>\n",
       "      <td>5.0</td>\n",
       "      <td>7.0</td>\n",
       "      <td>bogo</td>\n",
       "      <td>1.0</td>\n",
       "      <td>...</td>\n",
       "      <td>1.0</td>\n",
       "      <td>0.0</td>\n",
       "      <td>F</td>\n",
       "      <td>75</td>\n",
       "      <td>100000.0</td>\n",
       "      <td>443</td>\n",
       "      <td>1</td>\n",
       "      <td>0</td>\n",
       "      <td>0</td>\n",
       "      <td>1</td>\n",
       "    </tr>\n",
       "    <tr>\n",
       "      <th>3</th>\n",
       "      <td>78afa995795e4d85b5d9ceeca43f5fef</td>\n",
       "      <td>168</td>\n",
       "      <td>49.39</td>\n",
       "      <td>5a8bc65990b245e5a138643cd4eb9837</td>\n",
       "      <td>NaN</td>\n",
       "      <td>0.0</td>\n",
       "      <td>0.0</td>\n",
       "      <td>3.0</td>\n",
       "      <td>informational</td>\n",
       "      <td>0.0</td>\n",
       "      <td>...</td>\n",
       "      <td>1.0</td>\n",
       "      <td>1.0</td>\n",
       "      <td>F</td>\n",
       "      <td>75</td>\n",
       "      <td>100000.0</td>\n",
       "      <td>443</td>\n",
       "      <td>1</td>\n",
       "      <td>0</td>\n",
       "      <td>0</td>\n",
       "      <td>1</td>\n",
       "    </tr>\n",
       "    <tr>\n",
       "      <th>4</th>\n",
       "      <td>78afa995795e4d85b5d9ceeca43f5fef</td>\n",
       "      <td>510</td>\n",
       "      <td>21.72</td>\n",
       "      <td>ae264e3637204a6fb9bb56bc8210ddfd</td>\n",
       "      <td>10.0</td>\n",
       "      <td>10.0</td>\n",
       "      <td>10.0</td>\n",
       "      <td>7.0</td>\n",
       "      <td>bogo</td>\n",
       "      <td>0.0</td>\n",
       "      <td>...</td>\n",
       "      <td>1.0</td>\n",
       "      <td>1.0</td>\n",
       "      <td>F</td>\n",
       "      <td>75</td>\n",
       "      <td>100000.0</td>\n",
       "      <td>443</td>\n",
       "      <td>1</td>\n",
       "      <td>0</td>\n",
       "      <td>0</td>\n",
       "      <td>1</td>\n",
       "    </tr>\n",
       "    <tr>\n",
       "      <th>...</th>\n",
       "      <td>...</td>\n",
       "      <td>...</td>\n",
       "      <td>...</td>\n",
       "      <td>...</td>\n",
       "      <td>...</td>\n",
       "      <td>...</td>\n",
       "      <td>...</td>\n",
       "      <td>...</td>\n",
       "      <td>...</td>\n",
       "      <td>...</td>\n",
       "      <td>...</td>\n",
       "      <td>...</td>\n",
       "      <td>...</td>\n",
       "      <td>...</td>\n",
       "      <td>...</td>\n",
       "      <td>...</td>\n",
       "      <td>...</td>\n",
       "      <td>...</td>\n",
       "      <td>...</td>\n",
       "      <td>...</td>\n",
       "      <td>...</td>\n",
       "    </tr>\n",
       "    <tr>\n",
       "      <th>66496</th>\n",
       "      <td>9dc1421481194dcd9400aec7c9ae6366</td>\n",
       "      <td>576</td>\n",
       "      <td>NaN</td>\n",
       "      <td>ae264e3637204a6fb9bb56bc8210ddfd</td>\n",
       "      <td>NaN</td>\n",
       "      <td>10.0</td>\n",
       "      <td>10.0</td>\n",
       "      <td>7.0</td>\n",
       "      <td>bogo</td>\n",
       "      <td>0.0</td>\n",
       "      <td>...</td>\n",
       "      <td>1.0</td>\n",
       "      <td>1.0</td>\n",
       "      <td>F</td>\n",
       "      <td>83</td>\n",
       "      <td>50000.0</td>\n",
       "      <td>871</td>\n",
       "      <td>1</td>\n",
       "      <td>0</td>\n",
       "      <td>0</td>\n",
       "      <td>0</td>\n",
       "    </tr>\n",
       "    <tr>\n",
       "      <th>66497</th>\n",
       "      <td>e4052622e5ba45a8b96b59aba68cf068</td>\n",
       "      <td>54</td>\n",
       "      <td>21.55</td>\n",
       "      <td>2298d6c36e964ae4a3e7e9706d1fb8c2</td>\n",
       "      <td>3.0</td>\n",
       "      <td>3.0</td>\n",
       "      <td>7.0</td>\n",
       "      <td>7.0</td>\n",
       "      <td>discount</td>\n",
       "      <td>1.0</td>\n",
       "      <td>...</td>\n",
       "      <td>1.0</td>\n",
       "      <td>1.0</td>\n",
       "      <td>F</td>\n",
       "      <td>62</td>\n",
       "      <td>82000.0</td>\n",
       "      <td>369</td>\n",
       "      <td>1</td>\n",
       "      <td>0</td>\n",
       "      <td>0</td>\n",
       "      <td>1</td>\n",
       "    </tr>\n",
       "    <tr>\n",
       "      <th>66498</th>\n",
       "      <td>e4052622e5ba45a8b96b59aba68cf068</td>\n",
       "      <td>336</td>\n",
       "      <td>NaN</td>\n",
       "      <td>3f207df678b143eea3cee63160fa8bed</td>\n",
       "      <td>NaN</td>\n",
       "      <td>0.0</td>\n",
       "      <td>0.0</td>\n",
       "      <td>4.0</td>\n",
       "      <td>informational</td>\n",
       "      <td>1.0</td>\n",
       "      <td>...</td>\n",
       "      <td>1.0</td>\n",
       "      <td>0.0</td>\n",
       "      <td>F</td>\n",
       "      <td>62</td>\n",
       "      <td>82000.0</td>\n",
       "      <td>369</td>\n",
       "      <td>1</td>\n",
       "      <td>0</td>\n",
       "      <td>0</td>\n",
       "      <td>0</td>\n",
       "    </tr>\n",
       "    <tr>\n",
       "      <th>66499</th>\n",
       "      <td>e4052622e5ba45a8b96b59aba68cf068</td>\n",
       "      <td>408</td>\n",
       "      <td>NaN</td>\n",
       "      <td>f19421c1d4aa40978ebb69ca19b0e20d</td>\n",
       "      <td>NaN</td>\n",
       "      <td>5.0</td>\n",
       "      <td>5.0</td>\n",
       "      <td>5.0</td>\n",
       "      <td>bogo</td>\n",
       "      <td>1.0</td>\n",
       "      <td>...</td>\n",
       "      <td>1.0</td>\n",
       "      <td>1.0</td>\n",
       "      <td>F</td>\n",
       "      <td>62</td>\n",
       "      <td>82000.0</td>\n",
       "      <td>369</td>\n",
       "      <td>1</td>\n",
       "      <td>0</td>\n",
       "      <td>0</td>\n",
       "      <td>0</td>\n",
       "    </tr>\n",
       "    <tr>\n",
       "      <th>66500</th>\n",
       "      <td>e4052622e5ba45a8b96b59aba68cf068</td>\n",
       "      <td>576</td>\n",
       "      <td>NaN</td>\n",
       "      <td>3f207df678b143eea3cee63160fa8bed</td>\n",
       "      <td>NaN</td>\n",
       "      <td>0.0</td>\n",
       "      <td>0.0</td>\n",
       "      <td>4.0</td>\n",
       "      <td>informational</td>\n",
       "      <td>1.0</td>\n",
       "      <td>...</td>\n",
       "      <td>1.0</td>\n",
       "      <td>0.0</td>\n",
       "      <td>F</td>\n",
       "      <td>62</td>\n",
       "      <td>82000.0</td>\n",
       "      <td>369</td>\n",
       "      <td>1</td>\n",
       "      <td>0</td>\n",
       "      <td>0</td>\n",
       "      <td>0</td>\n",
       "    </tr>\n",
       "  </tbody>\n",
       "</table>\n",
       "<p>66501 rows × 21 columns</p>\n",
       "</div>"
      ],
      "text/plain": [
       "                                cust_id  time  amount  \\\n",
       "0      0610b486422d4921ae7d2bf64640c50b   408     NaN   \n",
       "1      0610b486422d4921ae7d2bf64640c50b   504     NaN   \n",
       "2      78afa995795e4d85b5d9ceeca43f5fef   132   19.89   \n",
       "3      78afa995795e4d85b5d9ceeca43f5fef   168   49.39   \n",
       "4      78afa995795e4d85b5d9ceeca43f5fef   510   21.72   \n",
       "...                                 ...   ...     ...   \n",
       "66496  9dc1421481194dcd9400aec7c9ae6366   576     NaN   \n",
       "66497  e4052622e5ba45a8b96b59aba68cf068    54   21.55   \n",
       "66498  e4052622e5ba45a8b96b59aba68cf068   336     NaN   \n",
       "66499  e4052622e5ba45a8b96b59aba68cf068   408     NaN   \n",
       "66500  e4052622e5ba45a8b96b59aba68cf068   576     NaN   \n",
       "\n",
       "                               offer_id  reward_x  reward_y  difficulty  \\\n",
       "0      9b98b8c7a33c4b65b9aebfe6a799e6d9       NaN       5.0         5.0   \n",
       "1      3f207df678b143eea3cee63160fa8bed       NaN       0.0         0.0   \n",
       "2      9b98b8c7a33c4b65b9aebfe6a799e6d9       5.0       5.0         5.0   \n",
       "3      5a8bc65990b245e5a138643cd4eb9837       NaN       0.0         0.0   \n",
       "4      ae264e3637204a6fb9bb56bc8210ddfd      10.0      10.0        10.0   \n",
       "...                                 ...       ...       ...         ...   \n",
       "66496  ae264e3637204a6fb9bb56bc8210ddfd       NaN      10.0        10.0   \n",
       "66497  2298d6c36e964ae4a3e7e9706d1fb8c2       3.0       3.0         7.0   \n",
       "66498  3f207df678b143eea3cee63160fa8bed       NaN       0.0         0.0   \n",
       "66499  f19421c1d4aa40978ebb69ca19b0e20d       NaN       5.0         5.0   \n",
       "66500  3f207df678b143eea3cee63160fa8bed       NaN       0.0         0.0   \n",
       "\n",
       "       duration     offer_type  web  ...  mobile  social  gender age  \\\n",
       "0           7.0           bogo  1.0  ...     1.0     0.0       F  55   \n",
       "1           4.0  informational  1.0  ...     1.0     0.0       F  55   \n",
       "2           7.0           bogo  1.0  ...     1.0     0.0       F  75   \n",
       "3           3.0  informational  0.0  ...     1.0     1.0       F  75   \n",
       "4           7.0           bogo  0.0  ...     1.0     1.0       F  75   \n",
       "...         ...            ...  ...  ...     ...     ...     ...  ..   \n",
       "66496       7.0           bogo  0.0  ...     1.0     1.0       F  83   \n",
       "66497       7.0       discount  1.0  ...     1.0     1.0       F  62   \n",
       "66498       4.0  informational  1.0  ...     1.0     0.0       F  62   \n",
       "66499       5.0           bogo  1.0  ...     1.0     1.0       F  62   \n",
       "66500       4.0  informational  1.0  ...     1.0     0.0       F  62   \n",
       "\n",
       "         income  member_days  gender_F  gender_M  gender_O  success  \n",
       "0      112000.0          376         1         0         0        0  \n",
       "1      112000.0          376         1         0         0        0  \n",
       "2      100000.0          443         1         0         0        1  \n",
       "3      100000.0          443         1         0         0        1  \n",
       "4      100000.0          443         1         0         0        1  \n",
       "...         ...          ...       ...       ...       ...      ...  \n",
       "66496   50000.0          871         1         0         0        0  \n",
       "66497   82000.0          369         1         0         0        1  \n",
       "66498   82000.0          369         1         0         0        0  \n",
       "66499   82000.0          369         1         0         0        0  \n",
       "66500   82000.0          369         1         0         0        0  \n",
       "\n",
       "[66501 rows x 21 columns]"
      ]
     },
     "execution_count": 18,
     "metadata": {},
     "output_type": "execute_result"
    }
   ],
   "source": [
    "cust_debug = ['7afdac3fe5994698bad7cde3e7cf19aa']\n",
    "\n",
    "offers = []\n",
    "offer_count = 0\n",
    "\n",
    "dup_ids = []\n",
    "\n",
    "for cust_id in profile.cust_id.unique():\n",
    "# for cust_id in cust_debug:\n",
    "    \n",
    "    temp_offer = []\n",
    "    temp_cnt   = 0\n",
    "\n",
    "    # Subset dataframe for a single customer id\n",
    "    mask = transcript.cust_id == cust_id\n",
    "    cust_df = transcript.loc[mask,:] #.copy()\n",
    "\n",
    "    # Get rows for all 'offer received' events for the given customer id\n",
    "    mask = cust_df.event == 'offer received'\n",
    "    offer_df = cust_df.loc[mask,:] #.copy()\n",
    "\n",
    "    # Loop through list of offers\n",
    "    for index, row in offer_df.iterrows():\n",
    "        \n",
    "        offer_count += 1\n",
    "        temp_cnt    += 1\n",
    "\n",
    "        # BOGO or discount offers\n",
    "        if row.offer_type in ['bogo','discount']:\n",
    "\n",
    "            # Check if there is an 'offer completed' event with the same offer id within the offer duration\n",
    "            df_completed = cust_df.loc[(cust_df.event == 'offer completed') & \n",
    "                                       (cust_df.offer_id == row.offer_id) &\n",
    "                                       (cust_df.time <= row.time + row.duration*24) &\n",
    "                                       (cust_df.time >= row.time)]\n",
    "\n",
    "            # If there is an 'offer completed', then check if there is an 'offer viewed'\n",
    "            if not df_completed.empty:\n",
    "                \n",
    "                # Only take the first 'offer completed' event to guard against there being multiple\n",
    "                # offers with the same offer_id within the same duration period\n",
    "                df_completed = df_completed.head(1)\n",
    "                \n",
    "                # Check if there is an 'offer viewed' event with the same offer_id within the \n",
    "                #  offer duration prior to this time\n",
    "                for index2, row2 in df_completed.iterrows():\n",
    "\n",
    "                    df_viewed = cust_df.loc[(cust_df.event == 'offer viewed') & \n",
    "                                            (cust_df.offer_id == row2.offer_id) &\n",
    "                                            (row.time <= cust_df.time) & \n",
    "                                            (cust_df.time <= row2.time)]\n",
    "\n",
    "                    # If the offer has been viewed before being completed then count this as a successful offer\n",
    "                    if not df_viewed.empty:\n",
    "\n",
    "                        # Find the associated transaction amount and put into the 'amount' column of row\n",
    "                        df_trans = cust_df.loc[(cust_df.event == 'transaction') & \n",
    "                                               (cust_df.time == row2.time)]\n",
    "                        tmprow = row2.values.flatten().tolist()\n",
    "                        tmprow[3] = df_trans.iloc[0, 3]\n",
    "\n",
    "                        # Add this to the list of successful offers\n",
    "                        offers.append(tmprow)\n",
    "                        temp_offer.append(tmprow)\n",
    "\n",
    "                    else:\n",
    "                        offers.append(row.values.flatten().tolist())\n",
    "                        temp_offer.append(row.values.flatten().tolist())\n",
    "                        \n",
    "            else:\n",
    "                # Otherwise just append as an offer\n",
    "                offers.append(row.values.flatten().tolist())\n",
    "                temp_offer.append(row.values.flatten().tolist())\n",
    "            \n",
    "\n",
    "        # Informational offers\n",
    "        else:\n",
    "            # Check to see if there are transactions within the duration of the offer\n",
    "            df_tran = cust_df.loc[(cust_df.event == 'transaction') & \n",
    "                                  (row.time <= cust_df.time) &\n",
    "                                  (cust_df.time <= row.time + row.duration*24)]\n",
    "\n",
    "            if not df_tran.empty:\n",
    "                # If there are transactions, check there are no 'offer completed' events with the same times\n",
    "                total_trans = 0\n",
    "                for index2, row2 in df_tran.iterrows():\n",
    "                    df_completed = cust_df.loc[(cust_df.event == 'offer completed') & \n",
    "                                               (cust_df.time == row2.time)]\n",
    "                    \n",
    "                    # If there is no 'offer completed', check if there is an 'offer viewed'\n",
    "                    # between the offer time and transaction time with the same offer_id\n",
    "                    if df_completed.empty:\n",
    "                        df_viewed = cust_df.loc[(cust_df.event == 'offer viewed') & \n",
    "                                            (cust_df.offer_id == row.offer_id) &\n",
    "                                            (row.time <= cust_df.time) & \n",
    "                                            (cust_df.time < row2.time)]\n",
    "                        \n",
    "                        # If there is an'offer viewed' event, then add the transaction amount to total\n",
    "                        if not df_viewed.empty:\n",
    "                            total_trans += row2.amount\n",
    "\n",
    "                # If total transactions under this offer are positive, then add as a successful offer\n",
    "                if total_trans > 0:\n",
    "                    tmprow = row.values.flatten().tolist()\n",
    "                    tmprow[1] = 'offer completed'\n",
    "                    tmprow[3] = total_trans\n",
    "\n",
    "                    # Add this to the list of successful offers\n",
    "                    offers.append(tmprow)\n",
    "                    temp_offer.append(tmprow)\n",
    "\n",
    "                else:\n",
    "                    # Otherwise just append as an offer\n",
    "                    offers.append(row.values.flatten().tolist())\n",
    "                    temp_offer.append(row.values.flatten().tolist())\n",
    "\n",
    "            else:\n",
    "                # Otherwise just append as an offer\n",
    "                offers.append(row.values.flatten().tolist())\n",
    "                temp_offer.append(row.values.flatten().tolist())\n",
    "                \n",
    "    recs_added = len(temp_offer)\n",
    "    if temp_cnt != recs_added:\n",
    "        dup_ids.append(cust_id)\n",
    "        print(cust_id)\n",
    "\n",
    "# Convert list of lists into a dataframe\n",
    "offers_df = pd.DataFrame(offers, columns=transcript.columns)\n",
    "\n",
    "# Confirm that the number of records in the transcript table with 'offer received' events match\n",
    "# the number of records in the new offers_df dataframe\n",
    "if offers_df.shape[0] != transcript.event.value_counts()['offer received']:\n",
    "    print('offer_count: {}'.format(offers_df.shape[0]))\n",
    "    print('value_count: {}'.format(transcript.event.value_counts()['offer received']))\n",
    "    print('Condensed table row count does not match number of offers received!')\n",
    "    assert offers_df.shape[0] == transcript.event.value_counts()['offer received']\n",
    "\n",
    "# Create a binary field to indicate successful offers\n",
    "offers_df['success'] = 0\n",
    "mask = offers_df.event == 'offer completed' \n",
    "offers_df.loc[mask, 'success'] = 1\n",
    "offers_df.drop(['event'], axis=1, inplace=True)\n",
    "\n",
    "offers_df"
   ]
  },
  {
   "cell_type": "code",
   "execution_count": 19,
   "metadata": {},
   "outputs": [
    {
     "data": {
      "text/html": [
       "<div>\n",
       "<style scoped>\n",
       "    .dataframe tbody tr th:only-of-type {\n",
       "        vertical-align: middle;\n",
       "    }\n",
       "\n",
       "    .dataframe tbody tr th {\n",
       "        vertical-align: top;\n",
       "    }\n",
       "\n",
       "    .dataframe thead th {\n",
       "        text-align: right;\n",
       "    }\n",
       "</style>\n",
       "<table border=\"1\" class=\"dataframe\">\n",
       "  <thead>\n",
       "    <tr style=\"text-align: right;\">\n",
       "      <th></th>\n",
       "      <th>gender</th>\n",
       "      <th>age</th>\n",
       "      <th>cust_id</th>\n",
       "      <th>income</th>\n",
       "      <th>member_days</th>\n",
       "      <th>gender_F</th>\n",
       "      <th>gender_M</th>\n",
       "      <th>gender_O</th>\n",
       "      <th>offer_spend</th>\n",
       "      <th>total_spend</th>\n",
       "      <th>non_offer_spend</th>\n",
       "      <th>frac_offer_spend</th>\n",
       "    </tr>\n",
       "  </thead>\n",
       "  <tbody>\n",
       "    <tr>\n",
       "      <th>0</th>\n",
       "      <td>F</td>\n",
       "      <td>55</td>\n",
       "      <td>0610b486422d4921ae7d2bf64640c50b</td>\n",
       "      <td>112000.0</td>\n",
       "      <td>376</td>\n",
       "      <td>1</td>\n",
       "      <td>0</td>\n",
       "      <td>0</td>\n",
       "      <td>0.00</td>\n",
       "      <td>77.01</td>\n",
       "      <td>77.01</td>\n",
       "      <td>0.000000</td>\n",
       "    </tr>\n",
       "    <tr>\n",
       "      <th>1</th>\n",
       "      <td>F</td>\n",
       "      <td>75</td>\n",
       "      <td>78afa995795e4d85b5d9ceeca43f5fef</td>\n",
       "      <td>100000.0</td>\n",
       "      <td>443</td>\n",
       "      <td>1</td>\n",
       "      <td>0</td>\n",
       "      <td>0</td>\n",
       "      <td>91.00</td>\n",
       "      <td>159.27</td>\n",
       "      <td>68.27</td>\n",
       "      <td>0.571357</td>\n",
       "    </tr>\n",
       "    <tr>\n",
       "      <th>2</th>\n",
       "      <td>M</td>\n",
       "      <td>68</td>\n",
       "      <td>e2127556f4f64592b11af22de27a7932</td>\n",
       "      <td>70000.0</td>\n",
       "      <td>91</td>\n",
       "      <td>0</td>\n",
       "      <td>1</td>\n",
       "      <td>0</td>\n",
       "      <td>18.42</td>\n",
       "      <td>57.73</td>\n",
       "      <td>39.31</td>\n",
       "      <td>0.319072</td>\n",
       "    </tr>\n",
       "    <tr>\n",
       "      <th>3</th>\n",
       "      <td>M</td>\n",
       "      <td>65</td>\n",
       "      <td>389bc3fa690240e798340f5a15918d5c</td>\n",
       "      <td>53000.0</td>\n",
       "      <td>167</td>\n",
       "      <td>0</td>\n",
       "      <td>1</td>\n",
       "      <td>0</td>\n",
       "      <td>36.43</td>\n",
       "      <td>36.43</td>\n",
       "      <td>0.00</td>\n",
       "      <td>1.000000</td>\n",
       "    </tr>\n",
       "    <tr>\n",
       "      <th>4</th>\n",
       "      <td>M</td>\n",
       "      <td>58</td>\n",
       "      <td>2eeac8d8feae4a8cad5a6af0499a211d</td>\n",
       "      <td>51000.0</td>\n",
       "      <td>257</td>\n",
       "      <td>0</td>\n",
       "      <td>1</td>\n",
       "      <td>0</td>\n",
       "      <td>7.14</td>\n",
       "      <td>15.62</td>\n",
       "      <td>8.48</td>\n",
       "      <td>0.457106</td>\n",
       "    </tr>\n",
       "  </tbody>\n",
       "</table>\n",
       "</div>"
      ],
      "text/plain": [
       "  gender  age                           cust_id    income  member_days  \\\n",
       "0      F   55  0610b486422d4921ae7d2bf64640c50b  112000.0          376   \n",
       "1      F   75  78afa995795e4d85b5d9ceeca43f5fef  100000.0          443   \n",
       "2      M   68  e2127556f4f64592b11af22de27a7932   70000.0           91   \n",
       "3      M   65  389bc3fa690240e798340f5a15918d5c   53000.0          167   \n",
       "4      M   58  2eeac8d8feae4a8cad5a6af0499a211d   51000.0          257   \n",
       "\n",
       "   gender_F  gender_M  gender_O  offer_spend  total_spend  non_offer_spend  \\\n",
       "0         1         0         0         0.00        77.01            77.01   \n",
       "1         1         0         0        91.00       159.27            68.27   \n",
       "2         0         1         0        18.42        57.73            39.31   \n",
       "3         0         1         0        36.43        36.43             0.00   \n",
       "4         0         1         0         7.14        15.62             8.48   \n",
       "\n",
       "   frac_offer_spend  \n",
       "0          0.000000  \n",
       "1          0.571357  \n",
       "2          0.319072  \n",
       "3          1.000000  \n",
       "4          0.457106  "
      ]
     },
     "execution_count": 19,
     "metadata": {},
     "output_type": "execute_result"
    }
   ],
   "source": [
    "# Calculate total offer and non-offer spend for each customer\n",
    "\n",
    "# Calculate offer spend by customer\n",
    "offers_compressed = offers_df.groupby(['cust_id','time'])['amount'].mean().to_frame().reset_index()\n",
    "offer_spend = offers_compressed.groupby('cust_id')['amount'].sum().to_frame().reset_index()\n",
    "offer_spend.columns = ['cust_id', 'offer_spend']\n",
    "\n",
    "# Calculate total spend by customer\n",
    "mask = transcript.event == 'transaction'\n",
    "transact_df = transcript.loc[mask,:].copy()\n",
    "total_spend = transact_df.groupby('cust_id')['amount'].sum().to_frame().reset_index()\n",
    "total_spend.columns = ['cust_id', 'total_spend']\n",
    "\n",
    "# Merge spend data with the customer table\n",
    "profile = profile.merge(offer_spend, on='cust_id', how='left')\n",
    "profile = profile.merge(total_spend, on='cust_id', how='left')\n",
    "\n",
    "# Replace NaNs with zeros for total_spend (customers who have no transactions)\n",
    "profile[['total_spend']] = profile[['total_spend']].fillna(0)\n",
    "\n",
    "# Calculate non-offer spend and fraction of total spend from offers\n",
    "profile['non_offer_spend'] = profile.total_spend - profile.offer_spend\n",
    "profile['frac_offer_spend'] = profile.offer_spend / profile.total_spend\n",
    "\n",
    "# Replace NaNs with zeros for frac_offer_spend (customers who have no transactions)\n",
    "profile[['frac_offer_spend']] = profile[['frac_offer_spend']].fillna(0)\n",
    "\n",
    "profile.head()"
   ]
  },
  {
   "cell_type": "markdown",
   "metadata": {},
   "source": [
    "# Exploratory Data Analysis\n",
    "Here we are going to look at the main metrics associated with the customers, namely their age, income, gender, and membership duration.  We will also look at offer and non-offer spend by age, gender, and membership duration.\n",
    "\n",
    "## Age Distribution"
   ]
  },
  {
   "cell_type": "code",
   "execution_count": 20,
   "metadata": {},
   "outputs": [
    {
     "name": "stdout",
     "output_type": "stream",
     "text": [
      "Minimum age: 18\n",
      "Maximum age: 101\n"
     ]
    },
    {
     "data": {
      "image/png": "[encoded data removed]",
      "text/plain": [
       "<Figure size 432x288 with 1 Axes>"
      ]
     },
     "metadata": {
      "needs_background": "light"
     },
     "output_type": "display_data"
    }
   ],
   "source": [
    "_ = profile.age.hist(bins=40)\n",
    "print('Minimum age: {}'.format(profile.age.min()))\n",
    "print('Maximum age: {}'.format(profile.age.max()))"
   ]
  },
  {
   "cell_type": "code",
   "execution_count": 21,
   "metadata": {},
   "outputs": [
    {
     "data": {
      "image/png": "[encoded data removed]",
      "text/plain": [
       "<Figure size 432x288 with 1 Axes>"
      ]
     },
     "metadata": {
      "needs_background": "light"
     },
     "output_type": "display_data"
    }
   ],
   "source": [
    "ax = sns.countplot(data=profile, x='gender')"
   ]
  },
  {
   "cell_type": "markdown",
   "metadata": {},
   "source": [
    "The ages in the dataset range from 18 to 101 years old. It also seems that the customer age skews a bit older with most falling into the 40-65 year range and also skews male. Lets group the ages into range buckets and do some further analysis."
   ]
  },
  {
   "cell_type": "code",
   "execution_count": 22,
   "metadata": {},
   "outputs": [
    {
     "data": {
      "image/png": "[encoded data removed]",
      "text/plain": [
       "<Figure size 432x288 with 1 Axes>"
      ]
     },
     "metadata": {
      "needs_background": "light"
     },
     "output_type": "display_data"
    }
   ],
   "source": [
    "# Create age ranges\n",
    "\n",
    "# From: https://stackoverflow.com/questions/52753613/grouping-categorising-ages-column-in-python-pandas\n",
    "ranges = ['18-29', '30-39', '40-49', '50-59', '60-69', '70-79', '80+']\n",
    "lower_bounds = [18, 30, 40, 50, 60, 70, 80, 110]\n",
    "profile['age_range'] = pd.cut(profile.age, bins = lower_bounds, labels = ranges, right = False)\n",
    "profile['age_range'] = pd.Categorical(profile.age_range, ordered = True, categories = ranges)\n",
    "\n",
    "ax = sns.countplot(data=profile, x='age_range', hue='gender')"
   ]
  },
  {
   "cell_type": "markdown",
   "metadata": {},
   "source": [
    "We see that males are overrepresented in each age range except 80+, which makes sense since females live around 8% longer on average than males.\n",
    "\n",
    "## Income"
   ]
  },
  {
   "cell_type": "code",
   "execution_count": 23,
   "metadata": {},
   "outputs": [
    {
     "data": {
      "image/png": "[encoded data removed]",
      "text/plain": [
       "<Figure size 432x288 with 1 Axes>"
      ]
     },
     "metadata": {
      "needs_background": "light"
     },
     "output_type": "display_data"
    }
   ],
   "source": [
    "ax = sns.boxplot(data=profile, x='age_range', y='income', hue='gender')"
   ]
  },
  {
   "cell_type": "code",
   "execution_count": 24,
   "metadata": {},
   "outputs": [
    {
     "data": {
      "image/png": "[encoded data removed]",
      "text/plain": [
       "<Figure size 432x288 with 1 Axes>"
      ]
     },
     "metadata": {
      "needs_background": "light"
     },
     "output_type": "display_data"
    }
   ],
   "source": [
    "ax = sns.barplot(data=profile, x='age_range', y='income', hue='gender', ci=None)"
   ]
  },
  {
   "cell_type": "markdown",
   "metadata": {},
   "source": [
    "We see that income rises with age group as expected, although I'm surprised that there is not much of a drop-off in the later age ranges.  We also see that females make more than males in every age group, which is surprising in that it goes against the prevailing narrative.\n",
    "\n",
    "## Membership Tenure"
   ]
  },
  {
   "cell_type": "code",
   "execution_count": 25,
   "metadata": {},
   "outputs": [
    {
     "data": {
      "image/png": "[encoded data removed]",
      "text/plain": [
       "<Figure size 432x288 with 1 Axes>"
      ]
     },
     "metadata": {
      "needs_background": "light"
     },
     "output_type": "display_data"
    }
   ],
   "source": [
    "ax = sns.histplot(data=profile, x='member_days', hue='gender', bins=50)"
   ]
  },
  {
   "cell_type": "markdown",
   "metadata": {},
   "source": [
    "This is a very interesting result, there are prominent break points at around a year and around three years of membership tenure. This suggests that we should group the membership tenure accordingly."
   ]
  },
  {
   "cell_type": "code",
   "execution_count": 26,
   "metadata": {},
   "outputs": [
    {
     "data": {
      "image/png": "[encoded data removed]",
      "text/plain": [
       "<Figure size 432x288 with 1 Axes>"
      ]
     },
     "metadata": {
      "needs_background": "light"
     },
     "output_type": "display_data"
    }
   ],
   "source": [
    "# Create membership tenure ranges\n",
    "ranges = ['0-1', '1-3', '3+']\n",
    "lower_bounds = [0, 365, 1095, profile.member_days.max()+1]\n",
    "profile['member_range_yrs'] = pd.cut(profile.member_days, bins = lower_bounds, labels = ranges, right = False)\n",
    "profile['member_range_yrs'] = pd.Categorical(profile.member_range_yrs, ordered = True, categories = ranges)\n",
    "\n",
    "ax = sns.countplot(data=profile, x='member_range_yrs', hue='gender')"
   ]
  },
  {
   "cell_type": "markdown",
   "metadata": {},
   "source": [
    "Another interesting result, men are overrepresented in short and long membership durations but are equal to women in the 1-3 year range.\n",
    "\n",
    "## Spend Patterns\n",
    "Now we look at total, offer, and non-offer spend across different categories."
   ]
  },
  {
   "cell_type": "code",
   "execution_count": 27,
   "metadata": {},
   "outputs": [
    {
     "data": {
      "image/png": "[encoded data removed]",
      "text/plain": [
       "<Figure size 432x288 with 1 Axes>"
      ]
     },
     "metadata": {
      "needs_background": "light"
     },
     "output_type": "display_data"
    }
   ],
   "source": [
    "ax = profile.total_spend.hist(bins=50)"
   ]
  },
  {
   "cell_type": "code",
   "execution_count": 28,
   "metadata": {},
   "outputs": [
    {
     "data": {
      "image/png": "[encoded data removed]",
      "text/plain": [
       "<Figure size 432x288 with 1 Axes>"
      ]
     },
     "metadata": {
      "needs_background": "light"
     },
     "output_type": "display_data"
    }
   ],
   "source": [
    "ax = sns.histplot(data=profile, x='total_spend', hue='gender', bins=50)"
   ]
  },
  {
   "cell_type": "markdown",
   "metadata": {},
   "source": [
    "As would be expected, the distribution of total spend is right-skewed. We also see there is a large contigent of males who don't spend as much."
   ]
  },
  {
   "cell_type": "code",
   "execution_count": 29,
   "metadata": {},
   "outputs": [
    {
     "data": {
      "image/png": "[encoded data removed]",
      "text/plain": [
       "<Figure size 432x288 with 1 Axes>"
      ]
     },
     "metadata": {
      "needs_background": "light"
     },
     "output_type": "display_data"
    }
   ],
   "source": [
    "ax = sns.barplot(data=profile, x='age_range', y='total_spend', hue='gender', ci=None)"
   ]
  },
  {
   "cell_type": "markdown",
   "metadata": {},
   "source": [
    "Females have the highest average total spend in every age group, with 'other' coming in second in every age group except 80+."
   ]
  },
  {
   "cell_type": "code",
   "execution_count": 30,
   "metadata": {},
   "outputs": [
    {
     "data": {
      "image/png": "[encoded data removed]",
      "text/plain": [
       "<Figure size 432x288 with 1 Axes>"
      ]
     },
     "metadata": {
      "needs_background": "light"
     },
     "output_type": "display_data"
    }
   ],
   "source": [
    "ax = sns.barplot(data=profile, x='age_range', y='offer_spend', hue='gender', ci=None)"
   ]
  },
  {
   "cell_type": "markdown",
   "metadata": {},
   "source": [
    "Females have the highest average offer spend except in the 60-69 and 70-79 age groups where 'other' is the highest."
   ]
  },
  {
   "cell_type": "code",
   "execution_count": 31,
   "metadata": {},
   "outputs": [
    {
     "data": {
      "image/png": "[encoded data removed]",
      "text/plain": [
       "<Figure size 432x288 with 1 Axes>"
      ]
     },
     "metadata": {
      "needs_background": "light"
     },
     "output_type": "display_data"
    }
   ],
   "source": [
    "ax = sns.boxplot(data=profile, x='age_range', y='frac_offer_spend', hue='gender')"
   ]
  },
  {
   "cell_type": "code",
   "execution_count": 32,
   "metadata": {},
   "outputs": [
    {
     "data": {
      "image/png": "[encoded data removed]",
      "text/plain": [
       "<Figure size 432x288 with 1 Axes>"
      ]
     },
     "metadata": {
      "needs_background": "light"
     },
     "output_type": "display_data"
    }
   ],
   "source": [
    "ax = sns.barplot(data=profile, x='age_range', y='frac_offer_spend', hue='gender', ci=None)"
   ]
  },
  {
   "cell_type": "markdown",
   "metadata": {},
   "source": [
    "This suggests that we want to send fewer offers to the the 18-29 year old group since they spend the most without offers anyway."
   ]
  },
  {
   "cell_type": "code",
   "execution_count": 33,
   "metadata": {},
   "outputs": [
    {
     "data": {
      "image/png": "[encoded data removed]",
      "text/plain": [
       "<Figure size 432x288 with 1 Axes>"
      ]
     },
     "metadata": {
      "needs_background": "light"
     },
     "output_type": "display_data"
    }
   ],
   "source": [
    "ax = sns.barplot(data=profile, x='member_range_yrs', y='frac_offer_spend', hue='gender', ci=None)"
   ]
  },
  {
   "cell_type": "code",
   "execution_count": 34,
   "metadata": {},
   "outputs": [
    {
     "data": {
      "image/png": "[encoded data removed]",
      "text/plain": [
       "<Figure size 432x288 with 1 Axes>"
      ]
     },
     "metadata": {
      "needs_background": "light"
     },
     "output_type": "display_data"
    }
   ],
   "source": [
    "ax = sns.violinplot(data=profile, x='member_range_yrs', y='total_spend', hue='gender')"
   ]
  },
  {
   "cell_type": "code",
   "execution_count": 35,
   "metadata": {},
   "outputs": [
    {
     "data": {
      "image/png": "[encoded data removed]",
      "text/plain": [
       "<Figure size 432x288 with 1 Axes>"
      ]
     },
     "metadata": {
      "needs_background": "light"
     },
     "output_type": "display_data"
    }
   ],
   "source": [
    "ax = sns.violinplot(data=profile, x='member_range_yrs', y='offer_spend', hue='gender')"
   ]
  },
  {
   "cell_type": "code",
   "execution_count": 36,
   "metadata": {},
   "outputs": [
    {
     "data": {
      "image/png": "[encoded data removed]",
      "text/plain": [
       "<Figure size 432x288 with 2 Axes>"
      ]
     },
     "metadata": {
      "needs_background": "light"
     },
     "output_type": "display_data"
    }
   ],
   "source": [
    "pv = pd.pivot_table(data=profile,\n",
    "                   values=['frac_offer_spend'],\n",
    "                   index=['age_range'],\n",
    "                   columns=['gender'],\n",
    "                   aggfunc=np.mean)\n",
    "\n",
    "_ = sns.heatmap(pv)"
   ]
  },
  {
   "cell_type": "markdown",
   "metadata": {},
   "source": [
    "This suggests that we want to send fewer offers to the the 18-29 year old group since they spend the most without offers anyway."
   ]
  },
  {
   "cell_type": "markdown",
   "metadata": {},
   "source": [
    "# Model Implementation\n",
    "\n",
    "Ideas:\n",
    "- Create a classification model to predict if an offer will be successful or not, and use feature importances to gain insight on the factors that drive successful offers\n",
    "- Create an unsupervised model to group related customers\n"
   ]
  },
  {
   "cell_type": "code",
   "execution_count": 37,
   "metadata": {},
   "outputs": [],
   "source": [
    "# One-hot encode the 'age_range' and 'member_range_yrs' columns\n",
    "profile = pd.concat([profile[:], pd.get_dummies(profile['age_range'], prefix='age_range')], axis=1)\n",
    "profile = pd.concat([profile[:], pd.get_dummies(profile['member_range_yrs'], prefix='mbr_range')], axis=1)\n",
    "\n",
    "OHE_cols = (pd.get_dummies(profile['age_range'], prefix='age_range').columns.to_list() + \n",
    "            pd.get_dummies(profile['member_range_yrs'], prefix='mbr_range').columns.to_list())\n",
    "\n",
    "# Merge in new profile columns to the offers_df dataframe\n",
    "columns = ['cust_id', 'total_spend', 'offer_spend', 'non_offer_spend', \n",
    "           'frac_offer_spend', 'age_range', 'member_range_yrs'] + OHE_cols\n",
    "\n",
    "offers_df = offers_df.merge(profile[columns], on='cust_id', how='left')\n",
    "\n",
    "# One-hot encode the 'offer_type' column\n",
    "offers_df = pd.concat([offers_df[:], pd.get_dummies(offers_df['offer_type'], prefix='offer')], axis=1)"
   ]
  },
  {
   "cell_type": "code",
   "execution_count": 96,
   "metadata": {},
   "outputs": [],
   "source": [
    "# Select columns to use for the models\n",
    "feature_cols = ['difficulty', 'duration', 'reward_y', 'web', 'email', 'mobile',\n",
    "                'social', 'income', 'gender_F', \n",
    "                'gender_M', 'gender_O', 'total_spend', 'offer_spend',\n",
    "                'non_offer_spend', 'frac_offer_spend', \n",
    "                'age_range_18-29', 'age_range_30-39', 'age_range_40-49',\n",
    "                'age_range_50-59', 'age_range_60-69', 'age_range_70-79',\n",
    "                'age_range_80+', 'mbr_range_0-1', 'mbr_range_1-3', 'mbr_range_3+',\n",
    "                'offer_bogo', 'offer_discount', 'offer_informational']\n",
    "\n",
    "target_col = ['success']"
   ]
  },
  {
   "cell_type": "code",
   "execution_count": 97,
   "metadata": {},
   "outputs": [],
   "source": [
    "# Create pipeline to scale the continuous features\n",
    "\n",
    "class ColumnExtractor(BaseEstimator, TransformerMixin):\n",
    "    def __init__(self, columns=None):\n",
    "        self.columns = columns\n",
    "    def fit(self, X, y=None):\n",
    "        return self\n",
    "    def transform(self, X):\n",
    "        X_cols = X[self.columns]\n",
    "        return X_cols\n",
    "\n",
    "# Select numerical features for scaling\n",
    "numcols = ['total_spend', 'offer_spend','non_offer_spend','duration','difficulty','reward_y']\n",
    "# Select categorical features to not be scaled\n",
    "othercols = list(set(feature_cols) - set(numcols))"
   ]
  },
  {
   "cell_type": "code",
   "execution_count": 98,
   "metadata": {},
   "outputs": [],
   "source": [
    "def create_and_fit(offer_type='all', clf=None, params=None):\n",
    "    \n",
    "    assert offer_type in ['bogo', 'discount', 'informational', 'all']\n",
    "    \n",
    "    if offer_type == 'all':\n",
    "        X_train, X_test, y_train, y_test = train_test_split(offers_df[feature_cols], \n",
    "                                                            offers_df[target_col], \n",
    "                                                            test_size=0.3, \n",
    "                                                            random_state=42)\n",
    "    else:\n",
    "        mask = offers_df.offer_type == offer_type\n",
    "        X_train, X_test, y_train, y_test = train_test_split(offers_df.loc[mask, feature_cols], \n",
    "                                                            offers_df.loc[mask, target_col], \n",
    "                                                            test_size=0.3, \n",
    "                                                            random_state=42)\n",
    "\n",
    "    pipeline = Pipeline([\n",
    "        ('features', FeatureUnion([\n",
    "            ('numeric', Pipeline([\n",
    "                ('extract', ColumnExtractor(columns=numcols)),\n",
    "                ('scaler', StandardScaler())\n",
    "            ])),\n",
    "            ('other', ColumnExtractor(columns=othercols))\n",
    "        ])),\n",
    "        ('clf', clf)\n",
    "    ])\n",
    "\n",
    "    cv = GridSearchCV(estimator=pipeline,\n",
    "                      param_grid=params,\n",
    "                      cv=5,\n",
    "                      scoring='f1',\n",
    "                      n_jobs=-1)\n",
    "\n",
    "    # Fit the estimator\n",
    "    cv.fit(X_train, y_train.values.ravel())\n",
    "    \n",
    "    return cv, X_train, X_test, y_train, y_test\n",
    "\n",
    "def model_report(model, X_train, X_test, y_train, y_test):\n",
    "    \n",
    "    best_model = model.best_estimator_\n",
    "\n",
    "    y_pred = best_model.predict(X_test)\n",
    "\n",
    "    print('Best hyperparameters:\\n', model.best_params_, '\\n')\n",
    "\n",
    "    feat_imp = pd.Series(best_model.steps[1][1].feature_importances_, index=X_train.columns)\n",
    "    _ = feat_imp.nlargest(20).plot(kind='barh').invert_yaxis()\n",
    "\n",
    "    print(classification_report(y_test, y_pred))\n",
    "    \n",
    "    return None"
   ]
  },
  {
   "cell_type": "code",
   "execution_count": 99,
   "metadata": {},
   "outputs": [],
   "source": [
    "params_rf_gb = {\n",
    "    'clf__n_estimators': [25, 50, 100],\n",
    "    'clf__max_depth': [4, 6, 8],\n",
    "    'clf__max_features': [0.3, 0.6, 0.8]\n",
    "}\n",
    "\n",
    "params_dt = {\n",
    "    'clf__min_samples_split': np.linspace(0.1, 1.0, 10, endpoint=True),\n",
    "    'clf__max_depth': [4, 6, 8, 10],\n",
    "    'clf__min_samples_leaf': np.linspace(0.1, 0.5, 5, endpoint=True)\n",
    "}\n",
    "\n",
    "# Test out different classifiers\n",
    "rf = RandomForestClassifier(random_state=42)\n",
    "gb = GradientBoostingClassifier(random_state=42)\n",
    "dt = DecisionTreeClassifier()\n"
   ]
  },
  {
   "cell_type": "code",
   "execution_count": 100,
   "metadata": {},
   "outputs": [
    {
     "name": "stdout",
     "output_type": "stream",
     "text": [
      "Best hyperparameters:\n",
      " {'clf__max_depth': 6, 'clf__max_features': 0.6, 'clf__n_estimators': 50} \n",
      "\n",
      "              precision    recall  f1-score   support\n",
      "\n",
      "           0       0.83      0.80      0.81     11759\n",
      "           1       0.73      0.76      0.74      8192\n",
      "\n",
      "    accuracy                           0.78     19951\n",
      "   macro avg       0.78      0.78      0.78     19951\n",
      "weighted avg       0.79      0.78      0.79     19951\n",
      "\n"
     ]
    },
    {
     "data": {
      "image/png": "[encoded data removed]",
      "text/plain": [
       "<Figure size 432x288 with 1 Axes>"
      ]
     },
     "metadata": {
      "needs_background": "light"
     },
     "output_type": "display_data"
    }
   ],
   "source": [
    "# Run as a single model across all offer types\n",
    "all_cv, X_train, X_test, y_train, y_test = create_and_fit(offer_type='all', clf=gb, params=params_rf_gb)\n",
    "model_report(all_cv, X_train, X_test, y_train, y_test)"
   ]
  },
  {
   "cell_type": "code",
   "execution_count": 101,
   "metadata": {},
   "outputs": [
    {
     "name": "stderr",
     "output_type": "stream",
     "text": [
      "/Users/nikokydes/opt/anaconda3/lib/python3.8/site-packages/joblib/externals/loky/process_executor.py:688: UserWarning: A worker stopped while some jobs were given to the executor. This can be caused by a too short worker timeout or by a memory leak.\n",
      "  warnings.warn(\n"
     ]
    },
    {
     "name": "stdout",
     "output_type": "stream",
     "text": [
      "Best hyperparameters:\n",
      " {'clf__max_depth': 8, 'clf__max_features': 0.8, 'clf__n_estimators': 100} \n",
      "\n",
      "              precision    recall  f1-score   support\n",
      "\n",
      "           0       0.83      0.79      0.81     11759\n",
      "           1       0.72      0.77      0.75      8192\n",
      "\n",
      "    accuracy                           0.78     19951\n",
      "   macro avg       0.78      0.78      0.78     19951\n",
      "weighted avg       0.79      0.78      0.78     19951\n",
      "\n"
     ]
    },
    {
     "data": {
      "image/png": "[encoded data removed]",
      "text/plain": [
       "<Figure size 432x288 with 1 Axes>"
      ]
     },
     "metadata": {
      "needs_background": "light"
     },
     "output_type": "display_data"
    }
   ],
   "source": [
    "# Run as a single model across all offer types\n",
    "all_cv, X_train, X_test, y_train, y_test = create_and_fit(offer_type='all', clf=rf, params=params_rf_gb)\n",
    "model_report(all_cv, X_train, X_test, y_train, y_test)"
   ]
  },
  {
   "cell_type": "code",
   "execution_count": 102,
   "metadata": {},
   "outputs": [
    {
     "name": "stdout",
     "output_type": "stream",
     "text": [
      "Best hyperparameters:\n",
      " {'clf__max_depth': 4, 'clf__max_features': 0.3, 'clf__n_estimators': 100} \n",
      "\n",
      "              precision    recall  f1-score   support\n",
      "\n",
      "           0       0.83      0.77      0.80      4696\n",
      "           1       0.70      0.77      0.73      3266\n",
      "\n",
      "    accuracy                           0.77      7962\n",
      "   macro avg       0.76      0.77      0.76      7962\n",
      "weighted avg       0.77      0.77      0.77      7962\n",
      "\n"
     ]
    },
    {
     "data": {
      "image/png": "[encoded data removed]",
      "text/plain": [
       "<Figure size 432x288 with 1 Axes>"
      ]
     },
     "metadata": {
      "needs_background": "light"
     },
     "output_type": "display_data"
    }
   ],
   "source": [
    "bogo_cv, X_train, X_test, y_train, y_test = create_and_fit(offer_type='bogo', clf=gb, params=params_rf_gb)\n",
    "model_report(bogo_cv, X_train, X_test, y_train, y_test)"
   ]
  },
  {
   "cell_type": "code",
   "execution_count": 103,
   "metadata": {},
   "outputs": [
    {
     "name": "stdout",
     "output_type": "stream",
     "text": [
      "Best hyperparameters:\n",
      " {'clf__max_depth': 6, 'clf__max_features': 0.8, 'clf__n_estimators': 50} \n",
      "\n",
      "              precision    recall  f1-score   support\n",
      "\n",
      "           0       0.83      0.77      0.80      4696\n",
      "           1       0.70      0.78      0.74      3266\n",
      "\n",
      "    accuracy                           0.77      7962\n",
      "   macro avg       0.76      0.77      0.77      7962\n",
      "weighted avg       0.78      0.77      0.77      7962\n",
      "\n"
     ]
    },
    {
     "data": {
      "image/png": "[encoded data removed]",
      "text/plain": [
       "<Figure size 432x288 with 1 Axes>"
      ]
     },
     "metadata": {
      "needs_background": "light"
     },
     "output_type": "display_data"
    }
   ],
   "source": [
    "bogo_cv, X_train, X_test, y_train, y_test = create_and_fit(offer_type='bogo', clf=rf, params=params_rf_gb)\n",
    "model_report(bogo_cv, X_train, X_test, y_train, y_test)"
   ]
  },
  {
   "cell_type": "code",
   "execution_count": 104,
   "metadata": {},
   "outputs": [
    {
     "name": "stdout",
     "output_type": "stream",
     "text": [
      "Best hyperparameters:\n",
      " {'clf__max_depth': 4, 'clf__max_features': 0.3, 'clf__n_estimators': 50} \n",
      "\n",
      "              precision    recall  f1-score   support\n",
      "\n",
      "           0       0.85      0.77      0.81      4433\n",
      "           1       0.75      0.83      0.79      3567\n",
      "\n",
      "    accuracy                           0.80      8000\n",
      "   macro avg       0.80      0.80      0.80      8000\n",
      "weighted avg       0.80      0.80      0.80      8000\n",
      "\n"
     ]
    },
    {
     "data": {
      "image/png": "[encoded data removed]",
      "text/plain": [
       "<Figure size 432x288 with 1 Axes>"
      ]
     },
     "metadata": {
      "needs_background": "light"
     },
     "output_type": "display_data"
    }
   ],
   "source": [
    "discount_cv, X_train, X_test, y_train, y_test = create_and_fit(offer_type='discount', clf=gb, params=params_rf_gb)\n",
    "model_report(discount_cv, X_train, X_test, y_train, y_test)"
   ]
  },
  {
   "cell_type": "code",
   "execution_count": 105,
   "metadata": {},
   "outputs": [
    {
     "name": "stdout",
     "output_type": "stream",
     "text": [
      "Best hyperparameters:\n",
      " {'clf__max_depth': 8, 'clf__max_features': 0.6, 'clf__n_estimators': 25} \n",
      "\n",
      "              precision    recall  f1-score   support\n",
      "\n",
      "           0       0.84      0.77      0.81      4433\n",
      "           1       0.74      0.82      0.78      3567\n",
      "\n",
      "    accuracy                           0.79      8000\n",
      "   macro avg       0.79      0.80      0.79      8000\n",
      "weighted avg       0.80      0.79      0.79      8000\n",
      "\n"
     ]
    },
    {
     "data": {
      "image/png": "[encoded data removed]",
      "text/plain": [
       "<Figure size 432x288 with 1 Axes>"
      ]
     },
     "metadata": {
      "needs_background": "light"
     },
     "output_type": "display_data"
    }
   ],
   "source": [
    "discount_cv, X_train, X_test, y_train, y_test = create_and_fit(offer_type='discount', clf=rf, params=params_rf_gb)\n",
    "model_report(discount_cv, X_train, X_test, y_train, y_test)"
   ]
  },
  {
   "cell_type": "code",
   "execution_count": 106,
   "metadata": {},
   "outputs": [
    {
     "name": "stdout",
     "output_type": "stream",
     "text": [
      "Best hyperparameters:\n",
      " {'clf__max_depth': 4, 'clf__max_features': 0.6, 'clf__n_estimators': 50} \n",
      "\n",
      "              precision    recall  f1-score   support\n",
      "\n",
      "           0       0.83      0.82      0.83      2640\n",
      "           1       0.66      0.67      0.67      1350\n",
      "\n",
      "    accuracy                           0.77      3990\n",
      "   macro avg       0.75      0.75      0.75      3990\n",
      "weighted avg       0.77      0.77      0.77      3990\n",
      "\n"
     ]
    },
    {
     "data": {
      "image/png": "[encoded data removed]",
      "text/plain": [
       "<Figure size 432x288 with 1 Axes>"
      ]
     },
     "metadata": {
      "needs_background": "light"
     },
     "output_type": "display_data"
    }
   ],
   "source": [
    "info_cv, X_train, X_test, y_train, y_test = create_and_fit(offer_type='informational', clf=gb, params=params_rf_gb)\n",
    "model_report(info_cv, X_train, X_test, y_train, y_test)"
   ]
  },
  {
   "cell_type": "code",
   "execution_count": 107,
   "metadata": {},
   "outputs": [
    {
     "name": "stdout",
     "output_type": "stream",
     "text": [
      "Best hyperparameters:\n",
      " {'clf__max_depth': 6, 'clf__max_features': 0.6, 'clf__n_estimators': 25} \n",
      "\n",
      "              precision    recall  f1-score   support\n",
      "\n",
      "           0       0.85      0.79      0.82      2640\n",
      "           1       0.64      0.73      0.68      1350\n",
      "\n",
      "    accuracy                           0.77      3990\n",
      "   macro avg       0.75      0.76      0.75      3990\n",
      "weighted avg       0.78      0.77      0.77      3990\n",
      "\n"
     ]
    },
    {
     "data": {
      "image/png": "[encoded data removed]",
      "text/plain": [
       "<Figure size 432x288 with 1 Axes>"
      ]
     },
     "metadata": {
      "needs_background": "light"
     },
     "output_type": "display_data"
    }
   ],
   "source": [
    "info_cv, X_train, X_test, y_train, y_test = create_and_fit(offer_type='informational', clf=rf, params=params_rf_gb)\n",
    "model_report(info_cv, X_train, X_test, y_train, y_test)"
   ]
  },
  {
   "cell_type": "code",
   "execution_count": null,
   "metadata": {},
   "outputs": [],
   "source": []
  }
 ],
 "metadata": {
  "kernelspec": {
   "display_name": "Python 3",
   "language": "python",
   "name": "python3"
  },
  "language_info": {
   "codemirror_mode": {
    "name": "ipython",
    "version": 3
   },
   "file_extension": ".py",
   "mimetype": "text/x-python",
   "name": "python",
   "nbconvert_exporter": "python",
   "pygments_lexer": "ipython3",
   "version": "3.8.8"
  }
 },
 "nbformat": 4,
 "nbformat_minor": 2
}
